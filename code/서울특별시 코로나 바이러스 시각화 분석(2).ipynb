{
 "cells": [
  {
   "cell_type": "markdown",
   "id": "f7f7049c",
   "metadata": {},
   "source": [
    "#  서울특별시 코로나 바이러스 크롤링 데이터"
   ]
  },
  {
   "cell_type": "markdown",
   "id": "1acccab7",
   "metadata": {},
   "source": [
    "## 1. 전처리"
   ]
  },
  {
   "cell_type": "code",
   "execution_count": 2,
   "id": "6a758d6d",
   "metadata": {},
   "outputs": [],
   "source": [
    "import pandas as pd\n",
    "import numpy as np\n",
    "import matplotlib as mp\n",
    "import matplotlib.pyplot as plt\n"
   ]
  },
  {
   "cell_type": "code",
   "execution_count": 3,
   "id": "76c7cfd5",
   "metadata": {},
   "outputs": [
    {
     "name": "stderr",
     "output_type": "stream",
     "text": [
      "Matplotlib is building the font cache; this may take a moment.\n"
     ]
    }
   ],
   "source": [
    "fm = mp.font_manager.FontManager()\n",
    "plt.rcParams['font.family'] = 'Malgun Gothic'\n"
   ]
  },
  {
   "cell_type": "code",
   "execution_count": 4,
   "id": "e50b2bee",
   "metadata": {},
   "outputs": [],
   "source": [
    "corona_data = pd.read_csv('C:\\study\\workspace_python\\pdsample\\datasets\\mydata\\corona_df_2021_08_14.csv', encoding = 'utf-8')"
   ]
  },
  {
   "cell_type": "code",
   "execution_count": 5,
   "id": "5b596dfe",
   "metadata": {},
   "outputs": [
    {
     "data": {
      "text/html": [
       "<div>\n",
       "<style scoped>\n",
       "    .dataframe tbody tr th:only-of-type {\n",
       "        vertical-align: middle;\n",
       "    }\n",
       "\n",
       "    .dataframe tbody tr th {\n",
       "        vertical-align: top;\n",
       "    }\n",
       "\n",
       "    .dataframe thead th {\n",
       "        text-align: right;\n",
       "    }\n",
       "</style>\n",
       "<table border=\"1\" class=\"dataframe\">\n",
       "  <thead>\n",
       "    <tr style=\"text-align: right;\">\n",
       "      <th></th>\n",
       "      <th>연번</th>\n",
       "      <th>환자</th>\n",
       "      <th>확진일</th>\n",
       "      <th>거주지</th>\n",
       "      <th>여행력</th>\n",
       "      <th>접촉력</th>\n",
       "      <th>퇴원현황</th>\n",
       "    </tr>\n",
       "  </thead>\n",
       "  <tbody>\n",
       "    <tr>\n",
       "      <th>0</th>\n",
       "      <td>70870</td>\n",
       "      <td>222111</td>\n",
       "      <td>2021-08-13</td>\n",
       "      <td>기타</td>\n",
       "      <td>-</td>\n",
       "      <td>감염경로 조사중</td>\n",
       "      <td>NaN</td>\n",
       "    </tr>\n",
       "    <tr>\n",
       "      <th>1</th>\n",
       "      <td>70869</td>\n",
       "      <td>221232</td>\n",
       "      <td>2021-08-13</td>\n",
       "      <td>기타</td>\n",
       "      <td>-</td>\n",
       "      <td>감염경로 조사중</td>\n",
       "      <td>NaN</td>\n",
       "    </tr>\n",
       "    <tr>\n",
       "      <th>2</th>\n",
       "      <td>70868</td>\n",
       "      <td>221356</td>\n",
       "      <td>2021-08-13</td>\n",
       "      <td>성북구</td>\n",
       "      <td>-</td>\n",
       "      <td>감염경로 조사중</td>\n",
       "      <td>NaN</td>\n",
       "    </tr>\n",
       "    <tr>\n",
       "      <th>3</th>\n",
       "      <td>70867</td>\n",
       "      <td>221710</td>\n",
       "      <td>2021-08-13</td>\n",
       "      <td>동대문구</td>\n",
       "      <td>-</td>\n",
       "      <td>감염경로 조사중</td>\n",
       "      <td>NaN</td>\n",
       "    </tr>\n",
       "    <tr>\n",
       "      <th>4</th>\n",
       "      <td>70866</td>\n",
       "      <td>220502</td>\n",
       "      <td>2021-08-13</td>\n",
       "      <td>타시도</td>\n",
       "      <td>-</td>\n",
       "      <td>기타 확진자 접촉</td>\n",
       "      <td>NaN</td>\n",
       "    </tr>\n",
       "  </tbody>\n",
       "</table>\n",
       "</div>"
      ],
      "text/plain": [
       "      연번      환자         확진일   거주지 여행력        접촉력 퇴원현황\n",
       "0  70870  222111  2021-08-13    기타   -   감염경로 조사중  NaN\n",
       "1  70869  221232  2021-08-13    기타   -   감염경로 조사중  NaN\n",
       "2  70868  221356  2021-08-13   성북구   -   감염경로 조사중  NaN\n",
       "3  70867  221710  2021-08-13  동대문구   -   감염경로 조사중  NaN\n",
       "4  70866  220502  2021-08-13   타시도   -  기타 확진자 접촉  NaN"
      ]
     },
     "execution_count": 5,
     "metadata": {},
     "output_type": "execute_result"
    }
   ],
   "source": [
    "corona_data.head()"
   ]
  },
  {
   "cell_type": "code",
   "execution_count": 6,
   "id": "0f0d009c",
   "metadata": {},
   "outputs": [
    {
     "name": "stdout",
     "output_type": "stream",
     "text": [
      "<class 'pandas.core.frame.DataFrame'>\n",
      "RangeIndex: 40400 entries, 0 to 40399\n",
      "Data columns (total 7 columns):\n",
      " #   Column  Non-Null Count  Dtype \n",
      "---  ------  --------------  ----- \n",
      " 0   연번      40400 non-null  int64 \n",
      " 1   환자      40400 non-null  int64 \n",
      " 2   확진일     40400 non-null  object\n",
      " 3   거주지     40400 non-null  object\n",
      " 4   여행력     40400 non-null  object\n",
      " 5   접촉력     40400 non-null  object\n",
      " 6   퇴원현황    31778 non-null  object\n",
      "dtypes: int64(2), object(5)\n",
      "memory usage: 2.2+ MB\n"
     ]
    }
   ],
   "source": [
    "corona_data.info()"
   ]
  },
  {
   "cell_type": "markdown",
   "id": "30fafe7b",
   "metadata": {},
   "source": [
    "## 1.1 Null 값 처리"
   ]
  },
  {
   "cell_type": "code",
   "execution_count": 7,
   "id": "5586c2d9",
   "metadata": {},
   "outputs": [
    {
     "data": {
      "text/plain": [
       "<AxesSubplot:>"
      ]
     },
     "execution_count": 7,
     "metadata": {},
     "output_type": "execute_result"
    },
    {
     "data": {
      "image/png": "[encoded data removed]",
      "text/plain": [
       "<Figure size 720x360 with 3 Axes>"
      ]
     },
     "metadata": {
      "needs_background": "light"
     },
     "output_type": "display_data"
    }
   ],
   "source": [
    "import missingno as msno\n",
    "\n",
    "msno.bar(corona_data, figsize = (10,5))"
   ]
  },
  {
   "cell_type": "code",
   "execution_count": 8,
   "id": "3fae63c3",
   "metadata": {},
   "outputs": [
    {
     "data": {
      "text/plain": [
       "<AxesSubplot:>"
      ]
     },
     "execution_count": 8,
     "metadata": {},
     "output_type": "execute_result"
    },
    {
     "data": {
      "image/png": "[encoded data removed]",
      "text/plain": [
       "<Figure size 1800x720 with 2 Axes>"
      ]
     },
     "metadata": {
      "needs_background": "light"
     },
     "output_type": "display_data"
    }
   ],
   "source": [
    "msno.matrix(corona_data)"
   ]
  },
  {
   "cell_type": "markdown",
   "id": "b5e767b7",
   "metadata": {},
   "source": [
    "### 1.1.2 퇴원현황 column\n",
    "\n",
    "- 퇴원현황만 null 값 있는 거 확인."
   ]
  },
  {
   "cell_type": "code",
   "execution_count": 9,
   "id": "fa919c3c",
   "metadata": {},
   "outputs": [
    {
     "name": "stdout",
     "output_type": "stream",
     "text": [
      "코로나 크롤링 데이터 퇴원현황 null 개수 :  8622\n"
     ]
    }
   ],
   "source": [
    "counted_null = corona_data['퇴원현황'].isnull().sum()\n",
    "print('코로나 크롤링 데이터 퇴원현황 null 개수 : ', counted_null)"
   ]
  },
  {
   "cell_type": "code",
   "execution_count": 10,
   "id": "e8dba9bc",
   "metadata": {},
   "outputs": [
    {
     "ename": "SyntaxError",
     "evalue": "invalid syntax (<ipython-input-10-a03c554b2926>, line 5)",
     "output_type": "error",
     "traceback": [
      "\u001b[1;36m  File \u001b[1;32m\"<ipython-input-10-a03c554b2926>\"\u001b[1;36m, line \u001b[1;32m5\u001b[0m\n\u001b[1;33m    -\u001b[0m\n\u001b[1;37m     ^\u001b[0m\n\u001b[1;31mSyntaxError\u001b[0m\u001b[1;31m:\u001b[0m invalid syntax\n"
     ]
    }
   ],
   "source": [
    "# https://www.seoul.go.kr/coronaV/coronaStatus.do \n",
    "# 사이트를 확인해보니 퇴원하기 전 퇴원현황을 Null 값으로 처리했다는 것을 유추가능.\n",
    "# null 을 '퇴원전' 으로 수정\n",
    "\n",
    "-\n",
    "\n",
    "corona_data['퇴원현황'].unique()"
   ]
  },
  {
   "cell_type": "code",
   "execution_count": null,
   "id": "b8769b1b",
   "metadata": {},
   "outputs": [],
   "source": [
    "corona_data['퇴원현황'] = corona_data['퇴원현황'].fillna('퇴원전')\n"
   ]
  },
  {
   "cell_type": "code",
   "execution_count": null,
   "id": "4a4da947",
   "metadata": {},
   "outputs": [],
   "source": [
    "msno.bar(corona_data, figsize = (10,5))"
   ]
  },
  {
   "cell_type": "markdown",
   "id": "3458e1d8",
   "metadata": {},
   "source": [
    "### 1.1.3 여행력 column"
   ]
  },
  {
   "cell_type": "code",
   "execution_count": null,
   "id": "f7abb28a",
   "metadata": {},
   "outputs": [],
   "source": [
    "corona_data['여행력'].unique()"
   ]
  },
  {
   "cell_type": "code",
   "execution_count": null,
   "id": "bf8df0fd",
   "metadata": {},
   "outputs": [],
   "source": [
    "#\"-\" 를 여행력 없음으로 간주, 보기 쉽게 바꿀 예정\n",
    "\n",
    "counted_null2 = len(corona_data[corona_data['여행력'] == '-'])\n",
    "print('여행력 column null 값 개수 : ', counted_null2)\n",
    "corona_data[corona_data['여행력'] == '-']"
   ]
  },
  {
   "cell_type": "code",
   "execution_count": null,
   "id": "8f13985e",
   "metadata": {},
   "outputs": [],
   "source": [
    "corona_data['여행력'].replace('-','없음', inplace = True)"
   ]
  },
  {
   "cell_type": "code",
   "execution_count": null,
   "id": "f5b48531",
   "metadata": {},
   "outputs": [],
   "source": [
    "corona_data.head()"
   ]
  },
  {
   "cell_type": "markdown",
   "id": "575c55fb",
   "metadata": {},
   "source": [
    "## 2. Feature Engineering"
   ]
  },
  {
   "cell_type": "markdown",
   "id": "1931687c",
   "metadata": {},
   "source": [
    "## 2.1 칼럼 삭제"
   ]
  },
  {
   "cell_type": "code",
   "execution_count": null,
   "id": "bc47042d",
   "metadata": {},
   "outputs": [],
   "source": [
    "corona_data.head()"
   ]
  },
  {
   "cell_type": "code",
   "execution_count": null,
   "id": "26cc7297",
   "metadata": {},
   "outputs": [],
   "source": [
    "corona_data.drop(['연번'], axis = 1,inplace = True)"
   ]
  },
  {
   "cell_type": "code",
   "execution_count": null,
   "id": "59a0c5c4",
   "metadata": {},
   "outputs": [],
   "source": [
    "corona_data['확진일'].unique()"
   ]
  },
  {
   "cell_type": "markdown",
   "id": "0f70c2e4",
   "metadata": {},
   "source": [
    "## 2.2 칼럼 생성"
   ]
  },
  {
   "cell_type": "markdown",
   "id": "44882298",
   "metadata": {},
   "source": [
    "확진일을 연도, 월, 일로 나누기"
   ]
  },
  {
   "cell_type": "code",
   "execution_count": null,
   "id": "0ccfc823",
   "metadata": {},
   "outputs": [],
   "source": [
    "corona_data['연도'] = corona_data['확진일'].str.split('-', expand = True)[0]\n",
    "corona_data['월'] = corona_data['확진일'].str.split('-', expand = True)[1]\n",
    "corona_data['일'] = corona_data['확진일'].str.split('-', expand = True)[2]\n"
   ]
  },
  {
   "cell_type": "code",
   "execution_count": null,
   "id": "8aef92e2",
   "metadata": {},
   "outputs": [],
   "source": [
    "#자료형 변경\n",
    "\n",
    "corona_data['월'] = corona_data['월'].astype(int)\n",
    "corona_data['일'] = corona_data['일'].astype(int)"
   ]
  },
  {
   "cell_type": "code",
   "execution_count": null,
   "id": "37419628",
   "metadata": {},
   "outputs": [],
   "source": [
    "corona_data.drop('확진일', axis = 1, inplace = True)"
   ]
  },
  {
   "cell_type": "code",
   "execution_count": null,
   "id": "7589bdde",
   "metadata": {},
   "outputs": [],
   "source": [
    "len(corona_data[(corona_data['월'] == 8) & (corona_data['일'] == 13)])"
   ]
  },
  {
   "cell_type": "code",
   "execution_count": null,
   "id": "5c39bace",
   "metadata": {},
   "outputs": [],
   "source": []
  },
  {
   "cell_type": "markdown",
   "id": "37739042",
   "metadata": {},
   "source": [
    "## 3. 칼럼별 기술통계"
   ]
  },
  {
   "cell_type": "code",
   "execution_count": null,
   "id": "dfcd5adb",
   "metadata": {},
   "outputs": [],
   "source": [
    "corona_data.describe()"
   ]
  },
  {
   "cell_type": "markdown",
   "id": "35c8a2e9",
   "metadata": {},
   "source": [
    "### 3.1 연번"
   ]
  },
  {
   "cell_type": "code",
   "execution_count": null,
   "id": "30238962",
   "metadata": {},
   "outputs": [],
   "source": [
    "corona"
   ]
  },
  {
   "cell_type": "code",
   "execution_count": null,
   "id": "64a01473",
   "metadata": {},
   "outputs": [],
   "source": []
  },
  {
   "cell_type": "code",
   "execution_count": null,
   "id": "8822c80d",
   "metadata": {},
   "outputs": [],
   "source": []
  },
  {
   "cell_type": "code",
   "execution_count": null,
   "id": "2c04329e",
   "metadata": {},
   "outputs": [],
   "source": []
  },
  {
   "cell_type": "code",
   "execution_count": null,
   "id": "6f7f712f",
   "metadata": {},
   "outputs": [],
   "source": []
  },
  {
   "cell_type": "code",
   "execution_count": null,
   "id": "2665c824",
   "metadata": {},
   "outputs": [],
   "source": []
  },
  {
   "cell_type": "markdown",
   "id": "7edf6413",
   "metadata": {},
   "source": [
    "### 3.2 환자"
   ]
  },
  {
   "cell_type": "code",
   "execution_count": null,
   "id": "03c45927",
   "metadata": {},
   "outputs": [],
   "source": []
  },
  {
   "cell_type": "code",
   "execution_count": null,
   "id": "02778d15",
   "metadata": {},
   "outputs": [],
   "source": []
  },
  {
   "cell_type": "code",
   "execution_count": null,
   "id": "f6d0e6b3",
   "metadata": {},
   "outputs": [],
   "source": []
  },
  {
   "cell_type": "markdown",
   "id": "4c1c8ba7",
   "metadata": {},
   "source": [
    "### 3.3 확진일"
   ]
  },
  {
   "cell_type": "code",
   "execution_count": null,
   "id": "fba88aeb",
   "metadata": {},
   "outputs": [],
   "source": []
  },
  {
   "cell_type": "code",
   "execution_count": null,
   "id": "70d174a7",
   "metadata": {},
   "outputs": [],
   "source": []
  },
  {
   "cell_type": "code",
   "execution_count": null,
   "id": "a44d0b1a",
   "metadata": {},
   "outputs": [],
   "source": []
  },
  {
   "cell_type": "markdown",
   "id": "85feef6f",
   "metadata": {},
   "source": [
    "###  3.4 거주지"
   ]
  },
  {
   "cell_type": "code",
   "execution_count": null,
   "id": "c8e09b44",
   "metadata": {},
   "outputs": [],
   "source": []
  },
  {
   "cell_type": "code",
   "execution_count": null,
   "id": "4622137b",
   "metadata": {},
   "outputs": [],
   "source": []
  },
  {
   "cell_type": "code",
   "execution_count": null,
   "id": "3c5e4e12",
   "metadata": {},
   "outputs": [],
   "source": []
  },
  {
   "cell_type": "markdown",
   "id": "b70943ec",
   "metadata": {},
   "source": [
    "### 3.5 여행력"
   ]
  },
  {
   "cell_type": "code",
   "execution_count": null,
   "id": "07908399",
   "metadata": {},
   "outputs": [],
   "source": []
  },
  {
   "cell_type": "code",
   "execution_count": null,
   "id": "33df22d7",
   "metadata": {},
   "outputs": [],
   "source": []
  },
  {
   "cell_type": "code",
   "execution_count": null,
   "id": "42093dbd",
   "metadata": {},
   "outputs": [],
   "source": []
  },
  {
   "cell_type": "markdown",
   "id": "1a1043ca",
   "metadata": {},
   "source": [
    "### 3.6 접촉력"
   ]
  },
  {
   "cell_type": "code",
   "execution_count": null,
   "id": "3c006d67",
   "metadata": {},
   "outputs": [],
   "source": []
  },
  {
   "cell_type": "code",
   "execution_count": null,
   "id": "307c87fd",
   "metadata": {},
   "outputs": [],
   "source": []
  },
  {
   "cell_type": "code",
   "execution_count": null,
   "id": "e9398398",
   "metadata": {},
   "outputs": [],
   "source": []
  },
  {
   "cell_type": "markdown",
   "id": "37912baf",
   "metadata": {},
   "source": [
    "### 3.7 퇴원현황"
   ]
  },
  {
   "cell_type": "code",
   "execution_count": null,
   "id": "5297aff5",
   "metadata": {},
   "outputs": [],
   "source": []
  },
  {
   "cell_type": "code",
   "execution_count": null,
   "id": "f2bbb8ea",
   "metadata": {},
   "outputs": [],
   "source": []
  },
  {
   "cell_type": "code",
   "execution_count": null,
   "id": "3d9224cf",
   "metadata": {},
   "outputs": [],
   "source": []
  },
  {
   "cell_type": "markdown",
   "id": "ccc955a0",
   "metadata": {},
   "source": [
    "# 서울특별시 예방접종센터 현황 데이터"
   ]
  },
  {
   "cell_type": "markdown",
   "id": "a2380747",
   "metadata": {},
   "source": [
    "## 전처리"
   ]
  },
  {
   "cell_type": "code",
   "execution_count": null,
   "id": "24e7cede",
   "metadata": {},
   "outputs": [],
   "source": [
    "pd.read_csv('C:\\study\\workspace_python\\pdsample\\datasets\\mydata\\공공데이터활용지원센터_코로나19 예방접종센터 현황_20210716.csv', encoding = 'cp949')"
   ]
  },
  {
   "cell_type": "code",
   "execution_count": null,
   "id": "5518bf31",
   "metadata": {},
   "outputs": [],
   "source": []
  },
  {
   "cell_type": "code",
   "execution_count": null,
   "id": "97c4d6d4",
   "metadata": {},
   "outputs": [],
   "source": [
    "pd.read_csv('C:\\study\\workspace_python\\pdsample\\datasets\\mydata\\DLA_2nd_ORIGIN_DLADATA202004_20210730120000.csv', header=None)"
   ]
  },
  {
   "cell_type": "code",
   "execution_count": null,
   "id": "aaa5c64b",
   "metadata": {},
   "outputs": [],
   "source": []
  },
  {
   "cell_type": "markdown",
   "id": "080676df",
   "metadata": {},
   "source": [
    "# 코로나 19 여행사업 관련 데이터 "
   ]
  },
  {
   "cell_type": "code",
   "execution_count": 20,
   "id": "65ac8eaa",
   "metadata": {},
   "outputs": [],
   "source": [
    "trip_df = pd.read_excel('C:\\\\study\\\\workspace_python\\\\pdsample\\\\datasets\\\\mydata\\\\코로나19 여행관련 데이터.xlsx')"
   ]
  },
  {
   "cell_type": "code",
   "execution_count": 46,
   "id": "464fb71d",
   "metadata": {},
   "outputs": [
    {
     "data": {
      "text/html": [
       "<div>\n",
       "<style scoped>\n",
       "    .dataframe tbody tr th:only-of-type {\n",
       "        vertical-align: middle;\n",
       "    }\n",
       "\n",
       "    .dataframe tbody tr th {\n",
       "        vertical-align: top;\n",
       "    }\n",
       "\n",
       "    .dataframe thead th {\n",
       "        text-align: right;\n",
       "    }\n",
       "</style>\n",
       "<table border=\"1\" class=\"dataframe\">\n",
       "  <thead>\n",
       "    <tr style=\"text-align: right;\">\n",
       "      <th></th>\n",
       "      <th>0</th>\n",
       "      <th>1</th>\n",
       "      <th>2</th>\n",
       "      <th>3</th>\n",
       "      <th>4</th>\n",
       "      <th>5</th>\n",
       "      <th>6</th>\n",
       "    </tr>\n",
       "  </thead>\n",
       "  <tbody>\n",
       "    <tr>\n",
       "      <th>항목</th>\n",
       "      <td>관광/여행</td>\n",
       "      <td>관광/여행</td>\n",
       "      <td>관광/여행</td>\n",
       "      <td>관광/여행</td>\n",
       "      <td>관광/여행</td>\n",
       "      <td>관광/여행</td>\n",
       "      <td>관광/여행</td>\n",
       "    </tr>\n",
       "    <tr>\n",
       "      <th>세부항목</th>\n",
       "      <td>호텔업</td>\n",
       "      <td>여관업</td>\n",
       "      <td>여행사업</td>\n",
       "      <td>항공여객운송업</td>\n",
       "      <td>철도여객운송업</td>\n",
       "      <td>휴양콘도운영업</td>\n",
       "      <td>관광/여행 지수</td>\n",
       "    </tr>\n",
       "    <tr>\n",
       "      <th>2021년 06월</th>\n",
       "      <td>89.7</td>\n",
       "      <td>67.7</td>\n",
       "      <td>22.5</td>\n",
       "      <td>23.9</td>\n",
       "      <td>98.8</td>\n",
       "      <td>79.3</td>\n",
       "      <td>50.5</td>\n",
       "    </tr>\n",
       "    <tr>\n",
       "      <th>2021년 05월</th>\n",
       "      <td>85.8</td>\n",
       "      <td>67.6</td>\n",
       "      <td>17.4</td>\n",
       "      <td>25.2</td>\n",
       "      <td>102.8</td>\n",
       "      <td>71.5</td>\n",
       "      <td>49.6</td>\n",
       "    </tr>\n",
       "    <tr>\n",
       "      <th>2021년 04월</th>\n",
       "      <td>77.1</td>\n",
       "      <td>64.4</td>\n",
       "      <td>17.7</td>\n",
       "      <td>21.3</td>\n",
       "      <td>91.8</td>\n",
       "      <td>60.0</td>\n",
       "      <td>44.5</td>\n",
       "    </tr>\n",
       "    <tr>\n",
       "      <th>...</th>\n",
       "      <td>...</td>\n",
       "      <td>...</td>\n",
       "      <td>...</td>\n",
       "      <td>...</td>\n",
       "      <td>...</td>\n",
       "      <td>...</td>\n",
       "      <td>...</td>\n",
       "    </tr>\n",
       "    <tr>\n",
       "      <th>2010년 05월</th>\n",
       "      <td>110.6</td>\n",
       "      <td>99.8</td>\n",
       "      <td>95.0</td>\n",
       "      <td>71.2</td>\n",
       "      <td>72.7</td>\n",
       "      <td>105.0</td>\n",
       "      <td>87.5</td>\n",
       "    </tr>\n",
       "    <tr>\n",
       "      <th>2010년 04월</th>\n",
       "      <td>102.3</td>\n",
       "      <td>103.1</td>\n",
       "      <td>82.6</td>\n",
       "      <td>66.3</td>\n",
       "      <td>63.9</td>\n",
       "      <td>97.7</td>\n",
       "      <td>81.3</td>\n",
       "    </tr>\n",
       "    <tr>\n",
       "      <th>2010년 03월</th>\n",
       "      <td>103.9</td>\n",
       "      <td>104.3</td>\n",
       "      <td>63.6</td>\n",
       "      <td>68.0</td>\n",
       "      <td>62.7</td>\n",
       "      <td>80.0</td>\n",
       "      <td>78.7</td>\n",
       "    </tr>\n",
       "    <tr>\n",
       "      <th>2010년 02월</th>\n",
       "      <td>94.5</td>\n",
       "      <td>98.5</td>\n",
       "      <td>67.0</td>\n",
       "      <td>61.1</td>\n",
       "      <td>68.0</td>\n",
       "      <td>109.3</td>\n",
       "      <td>76.3</td>\n",
       "    </tr>\n",
       "    <tr>\n",
       "      <th>2010년 01월</th>\n",
       "      <td>98.1</td>\n",
       "      <td>104.3</td>\n",
       "      <td>75.3</td>\n",
       "      <td>67.0</td>\n",
       "      <td>71.3</td>\n",
       "      <td>135.1</td>\n",
       "      <td>82.8</td>\n",
       "    </tr>\n",
       "  </tbody>\n",
       "</table>\n",
       "<p>140 rows × 7 columns</p>\n",
       "</div>"
      ],
      "text/plain": [
       "               0      1      2        3        4        5         6\n",
       "항목         관광/여행  관광/여행  관광/여행    관광/여행    관광/여행    관광/여행     관광/여행\n",
       "세부항목         호텔업    여관업   여행사업  항공여객운송업  철도여객운송업  휴양콘도운영업  관광/여행 지수\n",
       "2021년 06월   89.7   67.7   22.5     23.9     98.8     79.3      50.5\n",
       "2021년 05월   85.8   67.6   17.4     25.2    102.8     71.5      49.6\n",
       "2021년 04월   77.1   64.4   17.7     21.3     91.8     60.0      44.5\n",
       "...          ...    ...    ...      ...      ...      ...       ...\n",
       "2010년 05월  110.6   99.8   95.0     71.2     72.7    105.0      87.5\n",
       "2010년 04월  102.3  103.1   82.6     66.3     63.9     97.7      81.3\n",
       "2010년 03월  103.9  104.3   63.6     68.0     62.7     80.0      78.7\n",
       "2010년 02월   94.5   98.5   67.0     61.1     68.0    109.3      76.3\n",
       "2010년 01월   98.1  104.3   75.3     67.0     71.3    135.1      82.8\n",
       "\n",
       "[140 rows x 7 columns]"
      ]
     },
     "execution_count": 46,
     "metadata": {},
     "output_type": "execute_result"
    }
   ],
   "source": [
    "trip_df.T"
   ]
  },
  {
   "cell_type": "code",
   "execution_count": 140,
   "id": "9de082f0",
   "metadata": {},
   "outputs": [],
   "source": [
    "wanted_data = trip_df.T.iloc[2:20,2]\n",
    "visualization_df = wanted_data.reset_index()"
   ]
  },
  {
   "cell_type": "code",
   "execution_count": 142,
   "id": "d82ec8d1",
   "metadata": {},
   "outputs": [
    {
     "data": {
      "text/html": [
       "<div>\n",
       "<style scoped>\n",
       "    .dataframe tbody tr th:only-of-type {\n",
       "        vertical-align: middle;\n",
       "    }\n",
       "\n",
       "    .dataframe tbody tr th {\n",
       "        vertical-align: top;\n",
       "    }\n",
       "\n",
       "    .dataframe thead th {\n",
       "        text-align: right;\n",
       "    }\n",
       "</style>\n",
       "<table border=\"1\" class=\"dataframe\">\n",
       "  <thead>\n",
       "    <tr style=\"text-align: right;\">\n",
       "      <th></th>\n",
       "      <th>index</th>\n",
       "      <th>results</th>\n",
       "    </tr>\n",
       "  </thead>\n",
       "  <tbody>\n",
       "    <tr>\n",
       "      <th>0</th>\n",
       "      <td>2021년 06월</td>\n",
       "      <td>22.5</td>\n",
       "    </tr>\n",
       "    <tr>\n",
       "      <th>1</th>\n",
       "      <td>2021년 05월</td>\n",
       "      <td>17.4</td>\n",
       "    </tr>\n",
       "    <tr>\n",
       "      <th>2</th>\n",
       "      <td>2021년 04월</td>\n",
       "      <td>17.7</td>\n",
       "    </tr>\n",
       "    <tr>\n",
       "      <th>3</th>\n",
       "      <td>2021년 03월</td>\n",
       "      <td>16.7</td>\n",
       "    </tr>\n",
       "    <tr>\n",
       "      <th>4</th>\n",
       "      <td>2021년 02월</td>\n",
       "      <td>13.3</td>\n",
       "    </tr>\n",
       "  </tbody>\n",
       "</table>\n",
       "</div>"
      ],
      "text/plain": [
       "       index results\n",
       "0  2021년 06월    22.5\n",
       "1  2021년 05월    17.4\n",
       "2  2021년 04월    17.7\n",
       "3  2021년 03월    16.7\n",
       "4  2021년 02월    13.3"
      ]
     },
     "execution_count": 142,
     "metadata": {},
     "output_type": "execute_result"
    }
   ],
   "source": [
    "visualization_df = visualization_df.rename(columns = {2 : 'results'})\n",
    "visualization_df.head()"
   ]
  },
  {
   "cell_type": "code",
   "execution_count": 143,
   "id": "661d456f",
   "metadata": {},
   "outputs": [],
   "source": [
    "b['results'] = b['results'].astype(int)"
   ]
  },
  {
   "cell_type": "code",
   "execution_count": 145,
   "id": "4646130d",
   "metadata": {},
   "outputs": [
    {
     "data": {
      "image/png": "[encoded data removed]",
      "text/plain": [
       "<Figure size 1080x288 with 1 Axes>"
      ]
     },
     "metadata": {
      "needs_background": "light"
     },
     "output_type": "display_data"
    }
   ],
   "source": [
    "plt.figure(figsize = (15,4))\n",
    "plt.title('hotel business from 2020 - 2021')\n",
    "sns.lineplot(data = b, x = 'index', y = 'results', linestyle = '--', marker = 'o')\n",
    "sns.barplot(data = b, x = 'index', y = 'results', palette='YlGn_r')\n",
    "plt.xticks(rotation = 90)\n",
    "plt.savefig('foryongju')"
   ]
  },
  {
   "cell_type": "code",
   "execution_count": 93,
   "id": "5ed20650",
   "metadata": {},
   "outputs": [
    {
     "data": {
      "text/plain": [
       "<AxesSubplot:>"
      ]
     },
     "execution_count": 93,
     "metadata": {},
     "output_type": "execute_result"
    },
    {
     "data": {
      "image/png": "[encoded data removed]",
      "text/plain": [
       "<Figure size 1080x288 with 1 Axes>"
      ]
     },
     "metadata": {
      "needs_background": "light"
     },
     "output_type": "display_data"
    }
   ],
   "source": [
    "import matplotlib.pyplot as plt\n",
    "import seaborn as sns\n",
    "\n",
    "plt.figure(figsize = (15,4))\n",
    "trip_df.T.iloc[2:40,2].plot(kind = 'bar')"
   ]
  }
 ],
 "metadata": {
  "kernelspec": {
   "display_name": "Python 3",
   "language": "python",
   "name": "python3"
  },
  "language_info": {
   "codemirror_mode": {
    "name": "ipython",
    "version": 3
   },
   "file_extension": ".py",
   "mimetype": "text/x-python",
   "name": "python",
   "nbconvert_exporter": "python",
   "pygments_lexer": "ipython3",
   "version": "3.8.8"
  }
 },
 "nbformat": 4,
 "nbformat_minor": 5
}
