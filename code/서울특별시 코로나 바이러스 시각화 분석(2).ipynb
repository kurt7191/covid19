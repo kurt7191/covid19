{
 "cells": [
  {
   "cell_type": "markdown",
   "id": "f7f7049c",
   "metadata": {},
   "source": [
    "#  서울특별시 코로나 바이러스 크롤링 데이터"
   ]
  },
  {
   "cell_type": "markdown",
   "id": "1acccab7",
   "metadata": {},
   "source": [
    "## 1. 전처리"
   ]
  },
  {
   "cell_type": "code",
   "execution_count": 18,
   "id": "6a758d6d",
   "metadata": {},
   "outputs": [],
   "source": [
    "import pandas as pd\n",
    "import numpy as np\n",
    "import matplotlib as mp\n",
    "import matplotlib.pyplot as plt\n",
    "import seaborn as sns\n"
   ]
  },
  {
   "cell_type": "code",
   "execution_count": 19,
   "id": "76c7cfd5",
   "metadata": {},
   "outputs": [],
   "source": [
    "fm = mp.font_manager.FontManager()\n",
    "plt.rcParams['font.family'] = 'Malgun Gothic'\n"
   ]
  },
  {
   "cell_type": "code",
   "execution_count": 20,
   "id": "e50b2bee",
   "metadata": {},
   "outputs": [],
   "source": [
    "corona_data = pd.read_csv('C:\\study\\workspace_python\\pdsample\\datasets\\mydata\\corona_df_2021_08_14.csv', encoding = 'utf-8')"
   ]
  },
  {
   "cell_type": "code",
   "execution_count": 21,
   "id": "5b596dfe",
   "metadata": {},
   "outputs": [
    {
     "data": {
      "text/html": [
       "<div>\n",
       "<style scoped>\n",
       "    .dataframe tbody tr th:only-of-type {\n",
       "        vertical-align: middle;\n",
       "    }\n",
       "\n",
       "    .dataframe tbody tr th {\n",
       "        vertical-align: top;\n",
       "    }\n",
       "\n",
       "    .dataframe thead th {\n",
       "        text-align: right;\n",
       "    }\n",
       "</style>\n",
       "<table border=\"1\" class=\"dataframe\">\n",
       "  <thead>\n",
       "    <tr style=\"text-align: right;\">\n",
       "      <th></th>\n",
       "      <th>연번</th>\n",
       "      <th>환자</th>\n",
       "      <th>확진일</th>\n",
       "      <th>거주지</th>\n",
       "      <th>여행력</th>\n",
       "      <th>접촉력</th>\n",
       "      <th>퇴원현황</th>\n",
       "    </tr>\n",
       "  </thead>\n",
       "  <tbody>\n",
       "    <tr>\n",
       "      <th>0</th>\n",
       "      <td>70870</td>\n",
       "      <td>222111</td>\n",
       "      <td>2021-08-13</td>\n",
       "      <td>기타</td>\n",
       "      <td>-</td>\n",
       "      <td>감염경로 조사중</td>\n",
       "      <td>NaN</td>\n",
       "    </tr>\n",
       "    <tr>\n",
       "      <th>1</th>\n",
       "      <td>70869</td>\n",
       "      <td>221232</td>\n",
       "      <td>2021-08-13</td>\n",
       "      <td>기타</td>\n",
       "      <td>-</td>\n",
       "      <td>감염경로 조사중</td>\n",
       "      <td>NaN</td>\n",
       "    </tr>\n",
       "    <tr>\n",
       "      <th>2</th>\n",
       "      <td>70868</td>\n",
       "      <td>221356</td>\n",
       "      <td>2021-08-13</td>\n",
       "      <td>성북구</td>\n",
       "      <td>-</td>\n",
       "      <td>감염경로 조사중</td>\n",
       "      <td>NaN</td>\n",
       "    </tr>\n",
       "    <tr>\n",
       "      <th>3</th>\n",
       "      <td>70867</td>\n",
       "      <td>221710</td>\n",
       "      <td>2021-08-13</td>\n",
       "      <td>동대문구</td>\n",
       "      <td>-</td>\n",
       "      <td>감염경로 조사중</td>\n",
       "      <td>NaN</td>\n",
       "    </tr>\n",
       "    <tr>\n",
       "      <th>4</th>\n",
       "      <td>70866</td>\n",
       "      <td>220502</td>\n",
       "      <td>2021-08-13</td>\n",
       "      <td>타시도</td>\n",
       "      <td>-</td>\n",
       "      <td>기타 확진자 접촉</td>\n",
       "      <td>NaN</td>\n",
       "    </tr>\n",
       "  </tbody>\n",
       "</table>\n",
       "</div>"
      ],
      "text/plain": [
       "      연번      환자         확진일   거주지 여행력        접촉력 퇴원현황\n",
       "0  70870  222111  2021-08-13    기타   -   감염경로 조사중  NaN\n",
       "1  70869  221232  2021-08-13    기타   -   감염경로 조사중  NaN\n",
       "2  70868  221356  2021-08-13   성북구   -   감염경로 조사중  NaN\n",
       "3  70867  221710  2021-08-13  동대문구   -   감염경로 조사중  NaN\n",
       "4  70866  220502  2021-08-13   타시도   -  기타 확진자 접촉  NaN"
      ]
     },
     "execution_count": 21,
     "metadata": {},
     "output_type": "execute_result"
    }
   ],
   "source": [
    "corona_data.head()"
   ]
  },
  {
   "cell_type": "code",
   "execution_count": 22,
   "id": "0f0d009c",
   "metadata": {},
   "outputs": [
    {
     "name": "stdout",
     "output_type": "stream",
     "text": [
      "<class 'pandas.core.frame.DataFrame'>\n",
      "RangeIndex: 40400 entries, 0 to 40399\n",
      "Data columns (total 7 columns):\n",
      " #   Column  Non-Null Count  Dtype \n",
      "---  ------  --------------  ----- \n",
      " 0   연번      40400 non-null  int64 \n",
      " 1   환자      40400 non-null  int64 \n",
      " 2   확진일     40400 non-null  object\n",
      " 3   거주지     40400 non-null  object\n",
      " 4   여행력     40400 non-null  object\n",
      " 5   접촉력     40400 non-null  object\n",
      " 6   퇴원현황    31778 non-null  object\n",
      "dtypes: int64(2), object(5)\n",
      "memory usage: 2.2+ MB\n"
     ]
    }
   ],
   "source": [
    "corona_data.info()"
   ]
  },
  {
   "cell_type": "markdown",
   "id": "30fafe7b",
   "metadata": {},
   "source": [
    "## 1.1 Null 값 처리"
   ]
  },
  {
   "cell_type": "code",
   "execution_count": 23,
   "id": "5586c2d9",
   "metadata": {},
   "outputs": [
    {
     "data": {
      "text/plain": [
       "<AxesSubplot:>"
      ]
     },
     "execution_count": 23,
     "metadata": {},
     "output_type": "execute_result"
    },
    {
     "data": {
      "image/png": "[encoded data removed]",
      "text/plain": [
       "<Figure size 720x360 with 3 Axes>"
      ]
     },
     "metadata": {
      "needs_background": "light"
     },
     "output_type": "display_data"
    }
   ],
   "source": [
    "import missingno as msno\n",
    "\n",
    "msno.bar(corona_data, figsize = (10,5))"
   ]
  },
  {
   "cell_type": "code",
   "execution_count": 24,
   "id": "3fae63c3",
   "metadata": {},
   "outputs": [
    {
     "data": {
      "text/plain": [
       "<AxesSubplot:>"
      ]
     },
     "execution_count": 24,
     "metadata": {},
     "output_type": "execute_result"
    },
    {
     "data": {
      "image/png": "[encoded data removed]",
      "text/plain": [
       "<Figure size 1800x720 with 2 Axes>"
      ]
     },
     "metadata": {
      "needs_background": "light"
     },
     "output_type": "display_data"
    }
   ],
   "source": [
    "msno.matrix(corona_data)"
   ]
  },
  {
   "cell_type": "markdown",
   "id": "b5e767b7",
   "metadata": {},
   "source": [
    "### 1.1.2 퇴원현황 column\n",
    "\n",
    "- 퇴원현황만 null 값 있는 거 확인."
   ]
  },
  {
   "cell_type": "code",
   "execution_count": 25,
   "id": "fa919c3c",
   "metadata": {},
   "outputs": [
    {
     "name": "stdout",
     "output_type": "stream",
     "text": [
      "코로나 크롤링 데이터 퇴원현황 null 개수 :  8622\n"
     ]
    }
   ],
   "source": [
    "counted_null = corona_data['퇴원현황'].isnull().sum()\n",
    "print('코로나 크롤링 데이터 퇴원현황 null 개수 : ', counted_null)"
   ]
  },
  {
   "cell_type": "code",
   "execution_count": 26,
   "id": "e8dba9bc",
   "metadata": {},
   "outputs": [
    {
     "ename": "SyntaxError",
     "evalue": "invalid syntax (<ipython-input-26-a03c554b2926>, line 5)",
     "output_type": "error",
     "traceback": [
      "\u001b[1;36m  File \u001b[1;32m\"<ipython-input-26-a03c554b2926>\"\u001b[1;36m, line \u001b[1;32m5\u001b[0m\n\u001b[1;33m    -\u001b[0m\n\u001b[1;37m     ^\u001b[0m\n\u001b[1;31mSyntaxError\u001b[0m\u001b[1;31m:\u001b[0m invalid syntax\n"
     ]
    }
   ],
   "source": [
    "# https://www.seoul.go.kr/coronaV/coronaStatus.do \n",
    "# 사이트를 확인해보니 퇴원하기 전 퇴원현황을 Null 값으로 처리했다는 것을 유추가능.\n",
    "# null 을 '퇴원전' 으로 수정\n",
    "\n",
    "-\n",
    "\n",
    "corona_data['퇴원현황'].unique()"
   ]
  },
  {
   "cell_type": "code",
   "execution_count": 27,
   "id": "b8769b1b",
   "metadata": {},
   "outputs": [],
   "source": [
    "corona_data['퇴원현황'] = corona_data['퇴원현황'].fillna('퇴원전')\n"
   ]
  },
  {
   "cell_type": "code",
   "execution_count": 28,
   "id": "4a4da947",
   "metadata": {},
   "outputs": [
    {
     "data": {
      "text/plain": [
       "<AxesSubplot:>"
      ]
     },
     "execution_count": 28,
     "metadata": {},
     "output_type": "execute_result"
    },
    {
     "data": {
      "image/png": "[encoded data removed]",
      "text/plain": [
       "<Figure size 720x360 with 3 Axes>"
      ]
     },
     "metadata": {
      "needs_background": "light"
     },
     "output_type": "display_data"
    }
   ],
   "source": [
    "msno.bar(corona_data, figsize = (10,5))"
   ]
  },
  {
   "cell_type": "markdown",
   "id": "3458e1d8",
   "metadata": {},
   "source": [
    "### 1.1.3 여행력 column"
   ]
  },
  {
   "cell_type": "code",
   "execution_count": 29,
   "id": "f7abb28a",
   "metadata": {},
   "outputs": [
    {
     "data": {
      "text/plain": [
       "array(['-', '미국', '독일', '폴란드', '아랍에미레이트', '카자흐스탄', '기타 확진자 접촉', '인도네시아',\n",
       "       '스리랑카', '중국', '네덜란드', '인도', '러시아', '터키', '파라과이', '우즈베키스탄', '가나',\n",
       "       '~8.8', '일본', '영국', '몽골', '체코', '아랍에미리트', '우크라이나', '모잠비크',\n",
       "       '키르키스스탄', '베트남', '태국', '몰타', '캐나다', '키르기스스탄', '미얀마', '이라크', '프랑스',\n",
       "       '모스크바', '방글라데시', '파키스탄', '네날', '네팔', '러시아(두바이경유)', '필리핀',\n",
       "       '아프리카 말라위', ' ', '말레이시아', '자카르타', '멕시코', '케냐', '쿠웨이트', 'UAE',\n",
       "       '캄보디아', '스웨덴', '아랍에메리드(두바이)', '미국 괌', '으즈베키스탄', '인도네시아  ', '말레이지아',\n",
       "       '인도네시아 자카르타', '스페인마드리드', '타지키스탄', '키르키스탄', '도미니카공화국', '인도네시아 ',\n",
       "       '아프카니스탄', '시에라리온', '마포행복나눔마켓', '  ', '핀란드', '키르기스탄', '콜롬비아', '덴마크',\n",
       "       '인도 ', '싱가폴', '브라질', '오만', '아프가니스탄', '아일랜드', '이스라엘', '아랍에미리트연합',\n",
       "       '남아프리카공화국', '잠비아(아디스아바바)', '미국 ', '이집트', '짐바브웨', '이집트(카타르)',\n",
       "       '방글라데시,아랍에미리트', '21.5.13', '사우디아라비아', '마케도니아', '중국(시안)', '이란',\n",
       "       '헝가리', '파푸아뉴기니(포트모르즈비)', '파푸아뉴기니', '페루', '21.4.7', '강릉', '불가리아',\n",
       "       '수단', '스위스', '중국(장춘)', '필리핀 ', '카타르', '인도 델리', '멕시코(미국경유)',\n",
       "       '오스트리아'], dtype=object)"
      ]
     },
     "execution_count": 29,
     "metadata": {},
     "output_type": "execute_result"
    }
   ],
   "source": [
    "corona_data['여행력'].unique()"
   ]
  },
  {
   "cell_type": "code",
   "execution_count": 30,
   "id": "bf8df0fd",
   "metadata": {},
   "outputs": [
    {
     "name": "stdout",
     "output_type": "stream",
     "text": [
      "여행력 column null 값 개수 :  39848\n"
     ]
    },
    {
     "data": {
      "text/html": [
       "<div>\n",
       "<style scoped>\n",
       "    .dataframe tbody tr th:only-of-type {\n",
       "        vertical-align: middle;\n",
       "    }\n",
       "\n",
       "    .dataframe tbody tr th {\n",
       "        vertical-align: top;\n",
       "    }\n",
       "\n",
       "    .dataframe thead th {\n",
       "        text-align: right;\n",
       "    }\n",
       "</style>\n",
       "<table border=\"1\" class=\"dataframe\">\n",
       "  <thead>\n",
       "    <tr style=\"text-align: right;\">\n",
       "      <th></th>\n",
       "      <th>연번</th>\n",
       "      <th>환자</th>\n",
       "      <th>확진일</th>\n",
       "      <th>거주지</th>\n",
       "      <th>여행력</th>\n",
       "      <th>접촉력</th>\n",
       "      <th>퇴원현황</th>\n",
       "    </tr>\n",
       "  </thead>\n",
       "  <tbody>\n",
       "    <tr>\n",
       "      <th>0</th>\n",
       "      <td>70870</td>\n",
       "      <td>222111</td>\n",
       "      <td>2021-08-13</td>\n",
       "      <td>기타</td>\n",
       "      <td>-</td>\n",
       "      <td>감염경로 조사중</td>\n",
       "      <td>퇴원전</td>\n",
       "    </tr>\n",
       "    <tr>\n",
       "      <th>1</th>\n",
       "      <td>70869</td>\n",
       "      <td>221232</td>\n",
       "      <td>2021-08-13</td>\n",
       "      <td>기타</td>\n",
       "      <td>-</td>\n",
       "      <td>감염경로 조사중</td>\n",
       "      <td>퇴원전</td>\n",
       "    </tr>\n",
       "    <tr>\n",
       "      <th>2</th>\n",
       "      <td>70868</td>\n",
       "      <td>221356</td>\n",
       "      <td>2021-08-13</td>\n",
       "      <td>성북구</td>\n",
       "      <td>-</td>\n",
       "      <td>감염경로 조사중</td>\n",
       "      <td>퇴원전</td>\n",
       "    </tr>\n",
       "    <tr>\n",
       "      <th>3</th>\n",
       "      <td>70867</td>\n",
       "      <td>221710</td>\n",
       "      <td>2021-08-13</td>\n",
       "      <td>동대문구</td>\n",
       "      <td>-</td>\n",
       "      <td>감염경로 조사중</td>\n",
       "      <td>퇴원전</td>\n",
       "    </tr>\n",
       "    <tr>\n",
       "      <th>4</th>\n",
       "      <td>70866</td>\n",
       "      <td>220502</td>\n",
       "      <td>2021-08-13</td>\n",
       "      <td>타시도</td>\n",
       "      <td>-</td>\n",
       "      <td>기타 확진자 접촉</td>\n",
       "      <td>퇴원전</td>\n",
       "    </tr>\n",
       "    <tr>\n",
       "      <th>...</th>\n",
       "      <td>...</td>\n",
       "      <td>...</td>\n",
       "      <td>...</td>\n",
       "      <td>...</td>\n",
       "      <td>...</td>\n",
       "      <td>...</td>\n",
       "      <td>...</td>\n",
       "    </tr>\n",
       "    <tr>\n",
       "      <th>40395</th>\n",
       "      <td>30475</td>\n",
       "      <td>97579</td>\n",
       "      <td>2021-03-18</td>\n",
       "      <td>노원구</td>\n",
       "      <td>-</td>\n",
       "      <td>도봉구 소재 어린이집 관련(`21.3.)</td>\n",
       "      <td>퇴원</td>\n",
       "    </tr>\n",
       "    <tr>\n",
       "      <th>40396</th>\n",
       "      <td>30474</td>\n",
       "      <td>97537</td>\n",
       "      <td>2021-03-18</td>\n",
       "      <td>강남구</td>\n",
       "      <td>-</td>\n",
       "      <td>서초구 소재 음악연습실 관련</td>\n",
       "      <td>퇴원</td>\n",
       "    </tr>\n",
       "    <tr>\n",
       "      <th>40397</th>\n",
       "      <td>30473</td>\n",
       "      <td>97570</td>\n",
       "      <td>2021-03-18</td>\n",
       "      <td>강동구</td>\n",
       "      <td>-</td>\n",
       "      <td>기타 확진자 접촉</td>\n",
       "      <td>사망</td>\n",
       "    </tr>\n",
       "    <tr>\n",
       "      <th>40398</th>\n",
       "      <td>30472</td>\n",
       "      <td>97448</td>\n",
       "      <td>2021-03-18</td>\n",
       "      <td>송파구</td>\n",
       "      <td>-</td>\n",
       "      <td>감염경로 조사중</td>\n",
       "      <td>퇴원</td>\n",
       "    </tr>\n",
       "    <tr>\n",
       "      <th>40399</th>\n",
       "      <td>30471</td>\n",
       "      <td>97454</td>\n",
       "      <td>2021-03-18</td>\n",
       "      <td>성동구</td>\n",
       "      <td>-</td>\n",
       "      <td>중구 소재 주점/음식점 관련</td>\n",
       "      <td>퇴원</td>\n",
       "    </tr>\n",
       "  </tbody>\n",
       "</table>\n",
       "<p>39848 rows × 7 columns</p>\n",
       "</div>"
      ],
      "text/plain": [
       "          연번      환자         확진일   거주지 여행력                     접촉력 퇴원현황\n",
       "0      70870  222111  2021-08-13    기타   -                감염경로 조사중  퇴원전\n",
       "1      70869  221232  2021-08-13    기타   -                감염경로 조사중  퇴원전\n",
       "2      70868  221356  2021-08-13   성북구   -                감염경로 조사중  퇴원전\n",
       "3      70867  221710  2021-08-13  동대문구   -                감염경로 조사중  퇴원전\n",
       "4      70866  220502  2021-08-13   타시도   -               기타 확진자 접촉  퇴원전\n",
       "...      ...     ...         ...   ...  ..                     ...  ...\n",
       "40395  30475   97579  2021-03-18   노원구   -  도봉구 소재 어린이집 관련(`21.3.)   퇴원\n",
       "40396  30474   97537  2021-03-18   강남구   -         서초구 소재 음악연습실 관련   퇴원\n",
       "40397  30473   97570  2021-03-18   강동구   -               기타 확진자 접촉   사망\n",
       "40398  30472   97448  2021-03-18   송파구   -                감염경로 조사중   퇴원\n",
       "40399  30471   97454  2021-03-18   성동구   -         중구 소재 주점/음식점 관련   퇴원\n",
       "\n",
       "[39848 rows x 7 columns]"
      ]
     },
     "execution_count": 30,
     "metadata": {},
     "output_type": "execute_result"
    }
   ],
   "source": [
    "#\"-\" 를 여행력 없음으로 간주, 보기 쉽게 바꿀 예정\n",
    "\n",
    "counted_null2 = len(corona_data[corona_data['여행력'] == '-'])\n",
    "print('여행력 column null 값 개수 : ', counted_null2)\n",
    "corona_data[corona_data['여행력'] == '-']"
   ]
  },
  {
   "cell_type": "code",
   "execution_count": 31,
   "id": "8f13985e",
   "metadata": {},
   "outputs": [],
   "source": [
    "corona_data['여행력'].replace('-','없음', inplace = True)"
   ]
  },
  {
   "cell_type": "code",
   "execution_count": 32,
   "id": "f5b48531",
   "metadata": {},
   "outputs": [
    {
     "data": {
      "text/html": [
       "<div>\n",
       "<style scoped>\n",
       "    .dataframe tbody tr th:only-of-type {\n",
       "        vertical-align: middle;\n",
       "    }\n",
       "\n",
       "    .dataframe tbody tr th {\n",
       "        vertical-align: top;\n",
       "    }\n",
       "\n",
       "    .dataframe thead th {\n",
       "        text-align: right;\n",
       "    }\n",
       "</style>\n",
       "<table border=\"1\" class=\"dataframe\">\n",
       "  <thead>\n",
       "    <tr style=\"text-align: right;\">\n",
       "      <th></th>\n",
       "      <th>연번</th>\n",
       "      <th>환자</th>\n",
       "      <th>확진일</th>\n",
       "      <th>거주지</th>\n",
       "      <th>여행력</th>\n",
       "      <th>접촉력</th>\n",
       "      <th>퇴원현황</th>\n",
       "    </tr>\n",
       "  </thead>\n",
       "  <tbody>\n",
       "    <tr>\n",
       "      <th>0</th>\n",
       "      <td>70870</td>\n",
       "      <td>222111</td>\n",
       "      <td>2021-08-13</td>\n",
       "      <td>기타</td>\n",
       "      <td>없음</td>\n",
       "      <td>감염경로 조사중</td>\n",
       "      <td>퇴원전</td>\n",
       "    </tr>\n",
       "    <tr>\n",
       "      <th>1</th>\n",
       "      <td>70869</td>\n",
       "      <td>221232</td>\n",
       "      <td>2021-08-13</td>\n",
       "      <td>기타</td>\n",
       "      <td>없음</td>\n",
       "      <td>감염경로 조사중</td>\n",
       "      <td>퇴원전</td>\n",
       "    </tr>\n",
       "    <tr>\n",
       "      <th>2</th>\n",
       "      <td>70868</td>\n",
       "      <td>221356</td>\n",
       "      <td>2021-08-13</td>\n",
       "      <td>성북구</td>\n",
       "      <td>없음</td>\n",
       "      <td>감염경로 조사중</td>\n",
       "      <td>퇴원전</td>\n",
       "    </tr>\n",
       "    <tr>\n",
       "      <th>3</th>\n",
       "      <td>70867</td>\n",
       "      <td>221710</td>\n",
       "      <td>2021-08-13</td>\n",
       "      <td>동대문구</td>\n",
       "      <td>없음</td>\n",
       "      <td>감염경로 조사중</td>\n",
       "      <td>퇴원전</td>\n",
       "    </tr>\n",
       "    <tr>\n",
       "      <th>4</th>\n",
       "      <td>70866</td>\n",
       "      <td>220502</td>\n",
       "      <td>2021-08-13</td>\n",
       "      <td>타시도</td>\n",
       "      <td>없음</td>\n",
       "      <td>기타 확진자 접촉</td>\n",
       "      <td>퇴원전</td>\n",
       "    </tr>\n",
       "  </tbody>\n",
       "</table>\n",
       "</div>"
      ],
      "text/plain": [
       "      연번      환자         확진일   거주지 여행력        접촉력 퇴원현황\n",
       "0  70870  222111  2021-08-13    기타  없음   감염경로 조사중  퇴원전\n",
       "1  70869  221232  2021-08-13    기타  없음   감염경로 조사중  퇴원전\n",
       "2  70868  221356  2021-08-13   성북구  없음   감염경로 조사중  퇴원전\n",
       "3  70867  221710  2021-08-13  동대문구  없음   감염경로 조사중  퇴원전\n",
       "4  70866  220502  2021-08-13   타시도  없음  기타 확진자 접촉  퇴원전"
      ]
     },
     "execution_count": 32,
     "metadata": {},
     "output_type": "execute_result"
    }
   ],
   "source": [
    "corona_data.head()"
   ]
  },
  {
   "cell_type": "markdown",
   "id": "575c55fb",
   "metadata": {},
   "source": [
    "## 2. Feature Engineering"
   ]
  },
  {
   "cell_type": "markdown",
   "id": "1931687c",
   "metadata": {},
   "source": [
    "## 2.1 칼럼 삭제"
   ]
  },
  {
   "cell_type": "code",
   "execution_count": 33,
   "id": "bc47042d",
   "metadata": {},
   "outputs": [
    {
     "data": {
      "text/html": [
       "<div>\n",
       "<style scoped>\n",
       "    .dataframe tbody tr th:only-of-type {\n",
       "        vertical-align: middle;\n",
       "    }\n",
       "\n",
       "    .dataframe tbody tr th {\n",
       "        vertical-align: top;\n",
       "    }\n",
       "\n",
       "    .dataframe thead th {\n",
       "        text-align: right;\n",
       "    }\n",
       "</style>\n",
       "<table border=\"1\" class=\"dataframe\">\n",
       "  <thead>\n",
       "    <tr style=\"text-align: right;\">\n",
       "      <th></th>\n",
       "      <th>연번</th>\n",
       "      <th>환자</th>\n",
       "      <th>확진일</th>\n",
       "      <th>거주지</th>\n",
       "      <th>여행력</th>\n",
       "      <th>접촉력</th>\n",
       "      <th>퇴원현황</th>\n",
       "    </tr>\n",
       "  </thead>\n",
       "  <tbody>\n",
       "    <tr>\n",
       "      <th>0</th>\n",
       "      <td>70870</td>\n",
       "      <td>222111</td>\n",
       "      <td>2021-08-13</td>\n",
       "      <td>기타</td>\n",
       "      <td>없음</td>\n",
       "      <td>감염경로 조사중</td>\n",
       "      <td>퇴원전</td>\n",
       "    </tr>\n",
       "    <tr>\n",
       "      <th>1</th>\n",
       "      <td>70869</td>\n",
       "      <td>221232</td>\n",
       "      <td>2021-08-13</td>\n",
       "      <td>기타</td>\n",
       "      <td>없음</td>\n",
       "      <td>감염경로 조사중</td>\n",
       "      <td>퇴원전</td>\n",
       "    </tr>\n",
       "    <tr>\n",
       "      <th>2</th>\n",
       "      <td>70868</td>\n",
       "      <td>221356</td>\n",
       "      <td>2021-08-13</td>\n",
       "      <td>성북구</td>\n",
       "      <td>없음</td>\n",
       "      <td>감염경로 조사중</td>\n",
       "      <td>퇴원전</td>\n",
       "    </tr>\n",
       "    <tr>\n",
       "      <th>3</th>\n",
       "      <td>70867</td>\n",
       "      <td>221710</td>\n",
       "      <td>2021-08-13</td>\n",
       "      <td>동대문구</td>\n",
       "      <td>없음</td>\n",
       "      <td>감염경로 조사중</td>\n",
       "      <td>퇴원전</td>\n",
       "    </tr>\n",
       "    <tr>\n",
       "      <th>4</th>\n",
       "      <td>70866</td>\n",
       "      <td>220502</td>\n",
       "      <td>2021-08-13</td>\n",
       "      <td>타시도</td>\n",
       "      <td>없음</td>\n",
       "      <td>기타 확진자 접촉</td>\n",
       "      <td>퇴원전</td>\n",
       "    </tr>\n",
       "  </tbody>\n",
       "</table>\n",
       "</div>"
      ],
      "text/plain": [
       "      연번      환자         확진일   거주지 여행력        접촉력 퇴원현황\n",
       "0  70870  222111  2021-08-13    기타  없음   감염경로 조사중  퇴원전\n",
       "1  70869  221232  2021-08-13    기타  없음   감염경로 조사중  퇴원전\n",
       "2  70868  221356  2021-08-13   성북구  없음   감염경로 조사중  퇴원전\n",
       "3  70867  221710  2021-08-13  동대문구  없음   감염경로 조사중  퇴원전\n",
       "4  70866  220502  2021-08-13   타시도  없음  기타 확진자 접촉  퇴원전"
      ]
     },
     "execution_count": 33,
     "metadata": {},
     "output_type": "execute_result"
    }
   ],
   "source": [
    "corona_data.head()"
   ]
  },
  {
   "cell_type": "code",
   "execution_count": 34,
   "id": "26cc7297",
   "metadata": {},
   "outputs": [],
   "source": [
    "corona_data.drop(['연번'], axis = 1,inplace = True)"
   ]
  },
  {
   "cell_type": "code",
   "execution_count": 35,
   "id": "59a0c5c4",
   "metadata": {},
   "outputs": [
    {
     "data": {
      "text/plain": [
       "array(['2021-08-13', '2021-08-12', '2021-08-11', '2021-08-10',\n",
       "       '2021-08-09', '2021-08-08', '2021-08-07', '2021-08-06',\n",
       "       '2021-08-05', '2021-08-04', '2021-08-03', '2021-08-02',\n",
       "       '2021-08-01', '2021-07-31', '2021-07-30', '2021-07-29',\n",
       "       '2021-07-28', '2021-07-27', '2021-07-26', '2021-07-25',\n",
       "       '2021-07-24', '2021-07-23', '2021-07-22', '2021-07-21',\n",
       "       '2021-07-20', '2021-07-19', '2021-07-18', '2021-07-17',\n",
       "       '2021-07-16', '2021-07-15', '2021-07-14', '2021-07-13',\n",
       "       '2021-07-12', '2021-07-11', '2021-07-10', '2021-07-09',\n",
       "       '2021-07-08', '2021-07-07', '2021-07-06', '2021-07-05',\n",
       "       '2021-07-04', '2021-07-03', '2021-07-02', '2021-07-01',\n",
       "       '2021-06-30', '2021-06-29', '2021-06-28', '2021-06-27',\n",
       "       '2021-06-26', '2021-06-25', '2021-06-24', '2021-06-23',\n",
       "       '2021-06-22', '2021-06-21', '2021-06-20', '2021-06-19',\n",
       "       '2021-06-18', '2021-06-17', '2021-06-16', '2021-06-15',\n",
       "       '2021-06-14', '2021-06-13', '2021-06-12', '2021-06-11',\n",
       "       '2021-06-10', '2021-06-09', '2021-06-08', '2021-06-07',\n",
       "       '2021-06-06', '2021-06-05', '2021-06-04', '2021-06-03',\n",
       "       '2021-06-02', '2021-06-01', '2021-05-31', '2021-05-30',\n",
       "       '2021-05-29', '2021-05-28', '2021-05-27', '2021-05-26',\n",
       "       '2021-05-25', '2021-05-24', '2021-05-23', '2021-05-22',\n",
       "       '2021-05-21', '2021-05-20', '2021-05-19', '2021-05-18',\n",
       "       '2021-05-17', '2021-05-16', '2021-05-15', '2021-05-14',\n",
       "       '2021-05-13', '2021-05-12', '2021-05-11', '2021-05-10',\n",
       "       '2021-05-09', '2021-05-08', '2021-05-07', '2021-05-06',\n",
       "       '2021-05-05', '2021-05-04', '2021-05-03', '2021-05-02',\n",
       "       '2021-05-01', '2021-04-30', '2021-04-29', '2021-04-28',\n",
       "       '2021-04-27', '2021-04-26', '2021-04-25', '2021-04-24',\n",
       "       '2021-04-23', '2021-04-22', '2021-04-21', '2021-04-20',\n",
       "       '2021-04-19', '2021-04-18', '2021-04-17', '2021-04-16',\n",
       "       '2021-04-15', '2021-04-14', '2021-04-13', '2021-04-12',\n",
       "       '2021-04-11', '2021-04-10', '2021-04-09', '2021-04-08',\n",
       "       '2021-04-07', '2021-04-06', '2021-04-05', '2021-04-04',\n",
       "       '2021-04-03', '2021-04-02', '2021-04-01', '2021-03-31',\n",
       "       '2021-03-30', '2021-03-29', '2021-03-28', '2021-03-27',\n",
       "       '2021-03-26', '2021-03-25', '2021-03-24', '2021-03-23',\n",
       "       '2021-03-22', '2021-03-21', '2021-03-20', '2021-03-19',\n",
       "       '2021-03-18'], dtype=object)"
      ]
     },
     "execution_count": 35,
     "metadata": {},
     "output_type": "execute_result"
    }
   ],
   "source": [
    "corona_data['확진일'].unique()"
   ]
  },
  {
   "cell_type": "markdown",
   "id": "0f70c2e4",
   "metadata": {},
   "source": [
    "## 2.2 칼럼 생성"
   ]
  },
  {
   "cell_type": "markdown",
   "id": "44882298",
   "metadata": {},
   "source": [
    "확진일을 연도, 월, 일로 나누기"
   ]
  },
  {
   "cell_type": "code",
   "execution_count": 36,
   "id": "0ccfc823",
   "metadata": {},
   "outputs": [],
   "source": [
    "corona_data['연도'] = corona_data['확진일'].str.split('-', expand = True)[0]\n",
    "corona_data['월'] = corona_data['확진일'].str.split('-', expand = True)[1]\n",
    "corona_data['일'] = corona_data['확진일'].str.split('-', expand = True)[2]\n"
   ]
  },
  {
   "cell_type": "code",
   "execution_count": 37,
   "id": "8aef92e2",
   "metadata": {},
   "outputs": [],
   "source": [
    "#자료형 변경\n",
    "\n",
    "corona_data['월'] = corona_data['월'].astype(int)\n",
    "corona_data['일'] = corona_data['일'].astype(int)"
   ]
  },
  {
   "cell_type": "code",
   "execution_count": 38,
   "id": "37419628",
   "metadata": {},
   "outputs": [],
   "source": [
    "corona_data.drop('확진일', axis = 1, inplace = True)"
   ]
  },
  {
   "cell_type": "code",
   "execution_count": 39,
   "id": "7589bdde",
   "metadata": {},
   "outputs": [
    {
     "data": {
      "text/plain": [
       "515"
      ]
     },
     "execution_count": 39,
     "metadata": {},
     "output_type": "execute_result"
    }
   ],
   "source": [
    "len(corona_data[(corona_data['월'] == 8) & (corona_data['일'] == 13)])"
   ]
  },
  {
   "cell_type": "code",
   "execution_count": null,
   "id": "57ff4f20",
   "metadata": {},
   "outputs": [],
   "source": []
  },
  {
   "cell_type": "code",
   "execution_count": 40,
   "id": "7df0cf49",
   "metadata": {},
   "outputs": [
    {
     "data": {
      "text/html": [
       "<div>\n",
       "<style scoped>\n",
       "    .dataframe tbody tr th:only-of-type {\n",
       "        vertical-align: middle;\n",
       "    }\n",
       "\n",
       "    .dataframe tbody tr th {\n",
       "        vertical-align: top;\n",
       "    }\n",
       "\n",
       "    .dataframe thead th {\n",
       "        text-align: right;\n",
       "    }\n",
       "</style>\n",
       "<table border=\"1\" class=\"dataframe\">\n",
       "  <thead>\n",
       "    <tr style=\"text-align: right;\">\n",
       "      <th></th>\n",
       "      <th>환자</th>\n",
       "      <th>거주지</th>\n",
       "      <th>여행력</th>\n",
       "      <th>접촉력</th>\n",
       "      <th>퇴원현황</th>\n",
       "      <th>연도</th>\n",
       "      <th>월</th>\n",
       "      <th>일</th>\n",
       "    </tr>\n",
       "  </thead>\n",
       "  <tbody>\n",
       "    <tr>\n",
       "      <th>0</th>\n",
       "      <td>222111</td>\n",
       "      <td>기타</td>\n",
       "      <td>없음</td>\n",
       "      <td>감염경로 조사중</td>\n",
       "      <td>퇴원전</td>\n",
       "      <td>2021</td>\n",
       "      <td>8</td>\n",
       "      <td>13</td>\n",
       "    </tr>\n",
       "    <tr>\n",
       "      <th>1</th>\n",
       "      <td>221232</td>\n",
       "      <td>기타</td>\n",
       "      <td>없음</td>\n",
       "      <td>감염경로 조사중</td>\n",
       "      <td>퇴원전</td>\n",
       "      <td>2021</td>\n",
       "      <td>8</td>\n",
       "      <td>13</td>\n",
       "    </tr>\n",
       "    <tr>\n",
       "      <th>2</th>\n",
       "      <td>221356</td>\n",
       "      <td>성북구</td>\n",
       "      <td>없음</td>\n",
       "      <td>감염경로 조사중</td>\n",
       "      <td>퇴원전</td>\n",
       "      <td>2021</td>\n",
       "      <td>8</td>\n",
       "      <td>13</td>\n",
       "    </tr>\n",
       "    <tr>\n",
       "      <th>3</th>\n",
       "      <td>221710</td>\n",
       "      <td>동대문구</td>\n",
       "      <td>없음</td>\n",
       "      <td>감염경로 조사중</td>\n",
       "      <td>퇴원전</td>\n",
       "      <td>2021</td>\n",
       "      <td>8</td>\n",
       "      <td>13</td>\n",
       "    </tr>\n",
       "    <tr>\n",
       "      <th>4</th>\n",
       "      <td>220502</td>\n",
       "      <td>타시도</td>\n",
       "      <td>없음</td>\n",
       "      <td>기타 확진자 접촉</td>\n",
       "      <td>퇴원전</td>\n",
       "      <td>2021</td>\n",
       "      <td>8</td>\n",
       "      <td>13</td>\n",
       "    </tr>\n",
       "    <tr>\n",
       "      <th>5</th>\n",
       "      <td>220262</td>\n",
       "      <td>동대문구</td>\n",
       "      <td>없음</td>\n",
       "      <td>감염경로 조사중</td>\n",
       "      <td>퇴원전</td>\n",
       "      <td>2021</td>\n",
       "      <td>8</td>\n",
       "      <td>13</td>\n",
       "    </tr>\n",
       "    <tr>\n",
       "      <th>6</th>\n",
       "      <td>221253</td>\n",
       "      <td>타시도</td>\n",
       "      <td>없음</td>\n",
       "      <td>기타 확진자 접촉</td>\n",
       "      <td>퇴원전</td>\n",
       "      <td>2021</td>\n",
       "      <td>8</td>\n",
       "      <td>13</td>\n",
       "    </tr>\n",
       "    <tr>\n",
       "      <th>7</th>\n",
       "      <td>221252</td>\n",
       "      <td>타시도</td>\n",
       "      <td>없음</td>\n",
       "      <td>감염경로 조사중</td>\n",
       "      <td>퇴원전</td>\n",
       "      <td>2021</td>\n",
       "      <td>8</td>\n",
       "      <td>13</td>\n",
       "    </tr>\n",
       "    <tr>\n",
       "      <th>8</th>\n",
       "      <td>220223</td>\n",
       "      <td>광진구</td>\n",
       "      <td>없음</td>\n",
       "      <td>감염경로 조사중</td>\n",
       "      <td>퇴원전</td>\n",
       "      <td>2021</td>\n",
       "      <td>8</td>\n",
       "      <td>13</td>\n",
       "    </tr>\n",
       "    <tr>\n",
       "      <th>9</th>\n",
       "      <td>221555</td>\n",
       "      <td>영등포구</td>\n",
       "      <td>없음</td>\n",
       "      <td>기타 확진자 접촉</td>\n",
       "      <td>퇴원전</td>\n",
       "      <td>2021</td>\n",
       "      <td>8</td>\n",
       "      <td>13</td>\n",
       "    </tr>\n",
       "  </tbody>\n",
       "</table>\n",
       "</div>"
      ],
      "text/plain": [
       "       환자   거주지 여행력        접촉력 퇴원현황    연도  월   일\n",
       "0  222111    기타  없음   감염경로 조사중  퇴원전  2021  8  13\n",
       "1  221232    기타  없음   감염경로 조사중  퇴원전  2021  8  13\n",
       "2  221356   성북구  없음   감염경로 조사중  퇴원전  2021  8  13\n",
       "3  221710  동대문구  없음   감염경로 조사중  퇴원전  2021  8  13\n",
       "4  220502   타시도  없음  기타 확진자 접촉  퇴원전  2021  8  13\n",
       "5  220262  동대문구  없음   감염경로 조사중  퇴원전  2021  8  13\n",
       "6  221253   타시도  없음  기타 확진자 접촉  퇴원전  2021  8  13\n",
       "7  221252   타시도  없음   감염경로 조사중  퇴원전  2021  8  13\n",
       "8  220223   광진구  없음   감염경로 조사중  퇴원전  2021  8  13\n",
       "9  221555  영등포구  없음  기타 확진자 접촉  퇴원전  2021  8  13"
      ]
     },
     "execution_count": 40,
     "metadata": {},
     "output_type": "execute_result"
    }
   ],
   "source": [
    "corona_data.head(10)"
   ]
  },
  {
   "cell_type": "code",
   "execution_count": 80,
   "id": "34d57050",
   "metadata": {},
   "outputs": [
    {
     "data": {
      "text/plain": [
       "array([None, '접촉', '직장', '교육시설', '요양시설', '음식점', '시장', '실내체육시설', '종교시설',\n",
       "       '여행모임', '사우나', '고시원', 'PC방', '물류센터', '학원', '공연연습실', '방문요양관련', '강습',\n",
       "       '의료기관', '관련', '아동시설', '중학교', '전자회사', '어린이집', '요양병원', '서대문',\n",
       "       '공유오피스', '세계선교사대회', '체육대회', '소재', '유치원', '방송인', '경기도', '운동시설',\n",
       "       '노래연습장', '병원', '공연장', '종교,', '댄스연습실', '고시텔', '대학교', '지인모임',\n",
       "       '실내운동시설', '고등학교', '노원구', '초등학교', '아동복지시설', '서초구', \"관련('21.6.(3))\",\n",
       "       '개인과외교습소', '사회복지시설', '대학생', '숙박시설', '실내체육시설/강북구', \"관련('21.6.(2))\",\n",
       "       \"직장관련('21.6.)\", '음식점,', '공공기관', '아동보호시설', \"관련('21.5.(5))/마포구\",\n",
       "       \"관련('21.6.)\", '교육원', '용산구', '음악연습실', '모임', '지인', \"관련('21.5.(6))\",\n",
       "       '강남구', '어르신돌봄시설', \"관련('21.5.(3))\", '관련(‘21.5.(2))', '직장관련',\n",
       "       \"관련('21.5.(4))\", \"관련('21.4.(2))\", 'pc방', '댄스학원', '식당/교육시설',\n",
       "       \"관련('21.5.(2))\", \"직장관련('21.4.)\", \"관련('21.5.)\", '빌딩', '음악학원',\n",
       "       '체육시설', '게임개발업체', '공연', '실내', \"관련('21.4.)\", \"종교시설('21년\",\n",
       "       '종교시설/타시도', '공공기관,', '어르신복지시설', '주점', '음악동호회', '건강체험시설', '가족/직장',\n",
       "       '한방병원', '음악교습소', '직장(21년', '텔레마케팅', '고등학교/개인교습', '집단생활', '회사/노원구',\n",
       "       '사우나(타시도', '대학기숙사', '교회', \"관련('21.3.(2))\", \"사우나('21.4(2))\",\n",
       "       '주점/음식점', '직장(‘21년', '가족,', '공연밴드관련', '회사/양천구', '건설현장', '음식점/마포구',\n",
       "       '직장2', '교육기관', '제조업', '제조업공장'], dtype=object)"
      ]
     },
     "execution_count": 80,
     "metadata": {},
     "output_type": "execute_result"
    }
   ],
   "source": [
    "corona_data['접촉력'].str.split(' ', expand = True)[2].unique()"
   ]
  },
  {
   "cell_type": "code",
   "execution_count": 71,
   "id": "c3b3b884",
   "metadata": {},
   "outputs": [],
   "source": [
    "a = corona_data[(corona_data['접촉력'] != '감염경로 조사중') & (corona_data['접촉력'] != '기타 확진자 접촉') & \n",
    "           (corona_data['접촉력'] != '해외유입')]"
   ]
  },
  {
   "cell_type": "code",
   "execution_count": 78,
   "id": "6cdbdcf7",
   "metadata": {},
   "outputs": [
    {
     "data": {
      "text/html": [
       "<div>\n",
       "<style scoped>\n",
       "    .dataframe tbody tr th:only-of-type {\n",
       "        vertical-align: middle;\n",
       "    }\n",
       "\n",
       "    .dataframe tbody tr th {\n",
       "        vertical-align: top;\n",
       "    }\n",
       "\n",
       "    .dataframe thead th {\n",
       "        text-align: right;\n",
       "    }\n",
       "</style>\n",
       "<table border=\"1\" class=\"dataframe\">\n",
       "  <thead>\n",
       "    <tr style=\"text-align: right;\">\n",
       "      <th></th>\n",
       "      <th>환자</th>\n",
       "      <th>거주지</th>\n",
       "      <th>여행력</th>\n",
       "      <th>접촉력</th>\n",
       "      <th>퇴원현황</th>\n",
       "      <th>연도</th>\n",
       "      <th>월</th>\n",
       "      <th>일</th>\n",
       "    </tr>\n",
       "  </thead>\n",
       "  <tbody>\n",
       "    <tr>\n",
       "      <th>24</th>\n",
       "      <td>221073</td>\n",
       "      <td>은평구</td>\n",
       "      <td>없음</td>\n",
       "      <td>용산구 소재 직장 관련('21.8.)</td>\n",
       "      <td>퇴원전</td>\n",
       "      <td>2021</td>\n",
       "      <td>8</td>\n",
       "      <td>13</td>\n",
       "    </tr>\n",
       "    <tr>\n",
       "      <th>49</th>\n",
       "      <td>221824</td>\n",
       "      <td>종로구</td>\n",
       "      <td>없음</td>\n",
       "      <td>중랑구 소재 교육시설 관련</td>\n",
       "      <td>퇴원전</td>\n",
       "      <td>2021</td>\n",
       "      <td>8</td>\n",
       "      <td>13</td>\n",
       "    </tr>\n",
       "    <tr>\n",
       "      <th>55</th>\n",
       "      <td>221550</td>\n",
       "      <td>은평구</td>\n",
       "      <td>없음</td>\n",
       "      <td>용산구 소재 직장 관련('21.8.)</td>\n",
       "      <td>퇴원전</td>\n",
       "      <td>2021</td>\n",
       "      <td>8</td>\n",
       "      <td>13</td>\n",
       "    </tr>\n",
       "    <tr>\n",
       "      <th>59</th>\n",
       "      <td>221211</td>\n",
       "      <td>타시도</td>\n",
       "      <td>없음</td>\n",
       "      <td>병원 및 요양시설</td>\n",
       "      <td>퇴원전</td>\n",
       "      <td>2021</td>\n",
       "      <td>8</td>\n",
       "      <td>13</td>\n",
       "    </tr>\n",
       "    <tr>\n",
       "      <th>83</th>\n",
       "      <td>221504</td>\n",
       "      <td>구로구</td>\n",
       "      <td>없음</td>\n",
       "      <td>관악구 소재 음식점 관련('21.7.)</td>\n",
       "      <td>퇴원전</td>\n",
       "      <td>2021</td>\n",
       "      <td>8</td>\n",
       "      <td>13</td>\n",
       "    </tr>\n",
       "    <tr>\n",
       "      <th>...</th>\n",
       "      <td>...</td>\n",
       "      <td>...</td>\n",
       "      <td>...</td>\n",
       "      <td>...</td>\n",
       "      <td>...</td>\n",
       "      <td>...</td>\n",
       "      <td>...</td>\n",
       "      <td>...</td>\n",
       "    </tr>\n",
       "    <tr>\n",
       "      <th>40391</th>\n",
       "      <td>97478</td>\n",
       "      <td>강북구</td>\n",
       "      <td>없음</td>\n",
       "      <td>서초구 소재 직장 관련('21.3.)</td>\n",
       "      <td>퇴원</td>\n",
       "      <td>2021</td>\n",
       "      <td>3</td>\n",
       "      <td>18</td>\n",
       "    </tr>\n",
       "    <tr>\n",
       "      <th>40392</th>\n",
       "      <td>97501</td>\n",
       "      <td>중구</td>\n",
       "      <td>없음</td>\n",
       "      <td>서초구 소재 음악연습실 관련</td>\n",
       "      <td>퇴원</td>\n",
       "      <td>2021</td>\n",
       "      <td>3</td>\n",
       "      <td>18</td>\n",
       "    </tr>\n",
       "    <tr>\n",
       "      <th>40395</th>\n",
       "      <td>97579</td>\n",
       "      <td>노원구</td>\n",
       "      <td>없음</td>\n",
       "      <td>도봉구 소재 어린이집 관련(`21.3.)</td>\n",
       "      <td>퇴원</td>\n",
       "      <td>2021</td>\n",
       "      <td>3</td>\n",
       "      <td>18</td>\n",
       "    </tr>\n",
       "    <tr>\n",
       "      <th>40396</th>\n",
       "      <td>97537</td>\n",
       "      <td>강남구</td>\n",
       "      <td>없음</td>\n",
       "      <td>서초구 소재 음악연습실 관련</td>\n",
       "      <td>퇴원</td>\n",
       "      <td>2021</td>\n",
       "      <td>3</td>\n",
       "      <td>18</td>\n",
       "    </tr>\n",
       "    <tr>\n",
       "      <th>40399</th>\n",
       "      <td>97454</td>\n",
       "      <td>성동구</td>\n",
       "      <td>없음</td>\n",
       "      <td>중구 소재 주점/음식점 관련</td>\n",
       "      <td>퇴원</td>\n",
       "      <td>2021</td>\n",
       "      <td>3</td>\n",
       "      <td>18</td>\n",
       "    </tr>\n",
       "  </tbody>\n",
       "</table>\n",
       "<p>10441 rows × 8 columns</p>\n",
       "</div>"
      ],
      "text/plain": [
       "           환자  거주지 여행력                     접촉력 퇴원현황    연도  월   일\n",
       "24     221073  은평구  없음    용산구 소재 직장 관련('21.8.)  퇴원전  2021  8  13\n",
       "49     221824  종로구  없음          중랑구 소재 교육시설 관련  퇴원전  2021  8  13\n",
       "55     221550  은평구  없음    용산구 소재 직장 관련('21.8.)  퇴원전  2021  8  13\n",
       "59     221211  타시도  없음               병원 및 요양시설  퇴원전  2021  8  13\n",
       "83     221504  구로구  없음   관악구 소재 음식점 관련('21.7.)  퇴원전  2021  8  13\n",
       "...       ...  ...  ..                     ...  ...   ... ..  ..\n",
       "40391   97478  강북구  없음    서초구 소재 직장 관련('21.3.)   퇴원  2021  3  18\n",
       "40392   97501   중구  없음         서초구 소재 음악연습실 관련   퇴원  2021  3  18\n",
       "40395   97579  노원구  없음  도봉구 소재 어린이집 관련(`21.3.)   퇴원  2021  3  18\n",
       "40396   97537  강남구  없음         서초구 소재 음악연습실 관련   퇴원  2021  3  18\n",
       "40399   97454  성동구  없음         중구 소재 주점/음식점 관련   퇴원  2021  3  18\n",
       "\n",
       "[10441 rows x 8 columns]"
      ]
     },
     "execution_count": 78,
     "metadata": {},
     "output_type": "execute_result"
    }
   ],
   "source": [
    "a[a['새로운칼럼']== '중구']"
   ]
  },
  {
   "cell_type": "code",
   "execution_count": 79,
   "id": "13334d9e",
   "metadata": {
    "scrolled": true
   },
   "outputs": [
    {
     "data": {
      "text/plain": [
       "array(['용산구', '중랑구', '병원', '관악구', '동작구', '타시도', '수도권', '서초구', '강남구',\n",
       "       '서대문구', '구로구', '강북구', '송파구', '종로구', '중구', '금천구', '영등포구', '마포구',\n",
       "       '서울시', '경기', '강서구', '양천구', '은평,', '성북구', '성동구', '도봉구', '노원구',\n",
       "       '동대문구', '광진구', '강동구', '은평구', '마포구,', '용산구,', '동북권', '타시도(고양시)',\n",
       "       '타시도(인천시)', '지인', '금천구/영등포구'], dtype=object)"
      ]
     },
     "execution_count": 79,
     "metadata": {},
     "output_type": "execute_result"
    }
   ],
   "source": [
    "a['접촉력'].str.split(' ', expand = True)[0].unique()"
   ]
  },
  {
   "cell_type": "code",
   "execution_count": null,
   "id": "f9491d62",
   "metadata": {},
   "outputs": [],
   "source": []
  },
  {
   "cell_type": "code",
   "execution_count": 65,
   "id": "c29c1e69",
   "metadata": {},
   "outputs": [
    {
     "data": {
      "text/plain": [
       "array(['감염경로 조사중', '기타 확진자 접촉', \"용산구 소재 직장 관련('21.8.)\", '중랑구 소재 교육시설 관련',\n",
       "       '해외유입', '병원 및 요양시설', \"관악구 소재 음식점 관련('21.7.)\",\n",
       "       \"동작구 소재 시장 관련('21.8.)\", '타시도 확진자 접촉', '수도권 소재 실내체육시설 관련',\n",
       "       \"서초구 소재 종교시설 관련('21.8.)\", \"강남구 소재 실내체육시설 관련('21.8.(2))\",\n",
       "       '수도권 지인가족 여행모임 관련', \"서대문구 소재 사우나 관련('21.8.)\",\n",
       "       \"서대문구 소재 실내체육시설 관련('21.8.)\", \"동작구 소재 직장 관련('21.8.)\",\n",
       "       '구로구 소재 고시원 관련', '용산구 소재 PC방 관련', \"강북구 소재 직장 관련('21.8.)\",\n",
       "       \"강남구 소재 실내체육시설 관련('21.7.)\", \"구로구 소재 직장 관련('21.8.(2))\",\n",
       "       \"송파구 소재 물류센터 관련('21.7.)\", '종로구 소재 실내체육시설 관련',\n",
       "       \"중구 소재 직장 관련('21.8.)\", '금천구 소재 학원 관련', \"송파구 소재 직장 관련('21.8.)\",\n",
       "       '중구 소재 공연연습실 관련', '영등포구 소재 방문요양관련', \"동작구 소재 사우나 관련('21.7.)\",\n",
       "       '수도권 아이스하키 강습 관련', '강북구 소재 의료기관 관련', '서대문구 소재 실내체육시설 관련 ',\n",
       "       '마포구 소재 학원 관련', \"중구 소재 실내체육시설 관련('21.8.)\", '강남구 소재 음식점 관련',\n",
       "       '서울시 댄스연습실 관련', '송파구 소재 아동시설 관련', '동작구 소재 중학교 관련',\n",
       "       \"강남구 소재 직장 관련('21.8.)\", \"관악구 소재 사우나 관련('21.7.)\",\n",
       "       \"송파구 소재 학원 관련('21.7.)\", \"구로구 소재 직장 관련('21.8.)\",\n",
       "       \"강북구 소재 음식점 관련('21.8.)\", \"강남구 소재 직장 관련('21.8.(2))\",\n",
       "       '경기 수원시 전자회사 관련', '중랑구 소재 어린이집 관련', '관악구 소재 고시원 관련',\n",
       "       \"동작구 소재 종교시설 관련('21.7.)\", \"강서구 소재 요양병원 관련('21.7.)\",\n",
       "       \"마포구 소재 음식점 관련('21.7.(2))\", \"서초구 소재 직장 관련('21.7.)\",\n",
       "       '관악구 소재 요양시설 관련', '서대문구 소재 실내체육시설 관련', \"관악구 소재 직장 관련('21.8)\",\n",
       "       \"영등포구 소재 직장 관련('21.8.)\", \"송파구 소재 시장 관련('21.8.)\",\n",
       "       \"용산구 소재 직장 관련('21.7.(2))\", '강남구 소재 의료기관 관련(21.8.(2))',\n",
       "       '마포구 미용실, 서대문 학원 관련', '타시도 운동시설 관련', \"영등포구 소재 학원 관련('21.7.)\",\n",
       "       \"영등포구 소재 직장 관련('21.7.)\", \"강남구 소재 공유오피스 관련('21.8.)\",\n",
       "       \"강남구 소재 실내체육시설 관련('21.8.)\", \"서초구 소재 어린이집 관련('21.7.)\",\n",
       "       '양천구 소재 학원 관련', \"영등포구 소재 음식점 관련('21.7.)\",\n",
       "       \"구로구 소재 실내체육시설 관련('21.7.)\", \"강남구 소재 직장 관련('21.7.(5))\",\n",
       "       \"중구 소재 직장 관련('21.7.(2))\", '강남구 소재 의료기관 관련(21.8.)',\n",
       "       '타시도 역사포럼, 세계선교사대회 관련', '타시도 유소년 체육대회 관련',\n",
       "       \"서초구 소재 실내체육시설 관련('21.7.)\", \"종로구 소재 직장 관련('21.7.(3))\",\n",
       "       \"용산구 소재 직장 관련('21.7.)\", '은평, 노원구 소재 실내체육시설 관련',\n",
       "       \"성북구 소재 종교시설 관련('21.7.)\", \"관악구 소재 직장 관련('21.7.)\",\n",
       "       \"강남구 소재 직장 관련('21.7.(6))\", \"강남구 소재 직장 관련('21.7.)\", '성동구 소재 학원 관련',\n",
       "       \"종로구 소재 직장 관련('21.7.(2))\", '용산구 소재 중학교 관련', '도봉구 소재 유치원 관련',\n",
       "       \"관악구 소재 실내체육시설 관련('21.7.)\", '수도권 소재 방송인 관련', '동작구 소재 어린이집 관련',\n",
       "       '중구 소재 어린이집 관련', \"강서구 소재 직장 관련('21.7.)\", \"송파구 소재 직장 관련('21.7.(2))\",\n",
       "       '노원구 음식점, 경기도 직장 관련', \"중구 소재 직장 관련('21.7.)\",\n",
       "       \"노원구 소재 직장 관련('21.7.)\", \"마포구 소재 종교시설 관련('21.7.)\",\n",
       "       \"강남구 소재 직장 관련('21.7.(4))\", '노원구 소재 운동시설 관련', '강남구 소재 어린이집 관련',\n",
       "       \"강남구 소재 학원 관련('21.7.)\", '성동구 소재 노래연습장 관련',\n",
       "       \"중구 소재 직장 관련('21.7.(3))\", \"동대문구 소재 병원 관련('21.7.)\", '중랑구 지인모임 관련',\n",
       "       \"강북구 소재 직장 관련('21.7.)\", '광진구 소재 공연장 관련', '노원구 소재 실내체육시설 관련',\n",
       "       \"금천구 소재 직장 관련('21.7.)\", \"구로구 소재 직장 관련('21.7.(2))\",\n",
       "       \"강남구 소재 학원 관련('21.7.(2))\", '종로구 소재 공연장 관련', \"구로구 소재 직장 관련('21.7.)\",\n",
       "       '강서구 소재 실내체육시설 관련', \"송파구 소재 직장 관련('21.7.)\", '강동구 소재 의료기관 관련',\n",
       "       '영등포구 소재 종교, 복지시설 관련', \"서초구 소재 학원 관련('21.7.)\", '마포구 소재 댄스연습실 관련',\n",
       "       \"마포구 소재 음식점 관련('21.6.(2))\", \"종로구 소재 직장 관련('21.7.)\",\n",
       "       \"강남구 소재 직장 관련('21.7.(2))\", \"동대문구 소재 고시텔 관련('21.6.)\",\n",
       "       '은평구 소재 종교시설 관련(`21.6.)', \"동대문구 소재 직장 관련('21.7.)\",\n",
       "       \"중구 소재 직장 관련('21.6.(6))\", '동대문구 소재 대학교 학생모임 관련',\n",
       "       \"강남구 소재 중학교 관련('21.7.)\", '강북구 소재 지인모임 관련', \"마포구 소재 음식점 관련('21.7.)\",\n",
       "       '서초구 소재 실내운동시설 관련', '강동구 소재 실내체육시설 관련', \"성북구 소재 고등학교 관련('21.7.)\",\n",
       "       '수도권 지인모임, 노원구 가족 관련', '광진구 지인모임, 음식점 관련', '성동구 소재 초등학교 관련',\n",
       "       '서초구 소재 학원 관련(`21.6.)', \"강남구 소재 직장 관련('21.7.(3))\",\n",
       "       \"중구 소재 직장 관련('21.6.(5))\", \"양천구 소재 직장 관련('21.6.)\",\n",
       "       \"성북구 소재 실내체육시설 관련('21.6.(2))\", '타시도 공사현장, 노원구 소재 직장관련',\n",
       "       '노원구 소재 아동복지시설 관련', '마포구, 강남구 소재 음식점 관련', \"마포구 소재 직장 관련('21.6.)\",\n",
       "       \"강서구 소재 실내체육시설 관련('21.7.)\", '중구 소재 종교시설 관련',\n",
       "       '광진구 고등학교, 서초구 음악연습실 관련', \"강남구 소재 직장 관련('21.6.(4))\",\n",
       "       \"영등포구 소재 직장 관련('21.6.(2))\", \"수도권 지인모임 관련('21.6.(3))\",\n",
       "       '영등포구 소재 개인과외교습소 관련', '강북구 소재 종교시설 관련', \"종로구 소재 직장 관련('21.6.)\",\n",
       "       '영등포구 소재 종교시설 관련', '강동구 소재 사회복지시설 관련', '성동구 소재 대학생 관련',\n",
       "       \"도봉구 소재 직장 관련('21.6.)\", \"서초구 소재 음식점 관련('21.6.)\", '동대문구 소재 숙박시설 관련',\n",
       "       \"송파구 소재 직장 관련('21.6.)\", \"강동구 소재 요양병원 관련('21.6.)\",\n",
       "       \"광진구 소재 사우나 관련('21.6.)\", '동대문구 소재 실내체육시설/강북구 소재 음식점 관련',\n",
       "       \"강서구 소재 직장 관련('21.6.)\", '성북구 소재 고등학교 관련', \"동대문구 소재 직장 관련('21.6.)\",\n",
       "       \"강남구 소재 직장 관련('21.6.(3))\", '용산구 소재 노래연습장 관련',\n",
       "       \"마포구 소재 음식점 관련('21.6.)\", \"중구 소재 직장 관련('21.6.(3))\", '수도권 가족여행',\n",
       "       \"수도권 지인모임 관련('21.6.(2))\", \"송파구 소재 시장 관련('21.5.)\",\n",
       "       \"강북구 소재 직장관련('21.6.)\", '용산구, 동대문구 소재 직장 관련',\n",
       "       \"영등포구 소재 음식점 관련('21.6.)\", \"송파구 소재 종교시설 관련('21.6.)\",\n",
       "       '구로구 가족, 음식점, 사우나 관련', \"동작구 소재 음식점 관련('21.6.)\",\n",
       "       \"중구 소재 공공기관 관련('21.6.)\", \"중구 소재 직장 관련('21.6.(2))\",\n",
       "       '성북구 소재 아동보호시설 관련', \"용산구 소재 직장 관련('21.6.)\", \"중구 소재 직장 관련('21.6.)\",\n",
       "       \"서초구 소재 직장 관련('21.6.)\", \"중구 소재 직장 관련('21.6.(4))\", '성북구 소재 병원 관련',\n",
       "       '강북구 소재 고등학교 관련', \"강남구 소재 직장 관련('21.6.(2))\",\n",
       "       \"영등포구 소재 직장 관련('21.6.)\", \"중구 소재 직장 관련('21.5.(5))\",\n",
       "       \"금천구 소재 직장 관련('21.6.)\", '중랑구 소재 노래연습장 관련',\n",
       "       \"구로구 소재 직장 관련('21.5.(2))\", \"성동구 소재 직장 관련('21.6.)\",\n",
       "       \"관악구 소재 직장 관련('21.6.)\", \"강북구 소재 노래연습장 관련('21.5.(2))\",\n",
       "       \"수도권 지인모임 관련('21.5.(5))/마포구 소재 음식점 관련\", \"수도권 지인모임 관련('21.6.)\",\n",
       "       '성북구 소재 실내체육시설 관련', '송파구 소재 교육원 관련', '강동구 소재 종교시설 관련',\n",
       "       '강남구 가족, 용산구 소재 음식점 관련', \"강남구 소재 의료기관 관련('21.6.)\",\n",
       "       \"중구 소재 직장 관련('21.5.(2))\", \"강동구 소재 직장 관련('21.6.)\",\n",
       "       \"강남구 소재 직장 관련('21.6.)\", '송파구 소재 실내운동시설 관련',\n",
       "       \"강남구 소재 학원 관련('21.5.(3))\", '동북권 지인모임 관련',\n",
       "       \"강남구 소재 학원 관련('21.5.(2))\", '금천구 직장/영등포구 음식점 관련',\n",
       "       '강북구 소재 실내체육시설 관련', '영등포구 소재 음악연습실 관련', '수도권 지인·가족 모임 관련',\n",
       "       '금천구 소재 노래연습장 관련', '용산구 소재 지인 모임 관련', '강남구 소재 실내체육시설 관련',\n",
       "       '강북구 소재 PC방 관련', \"중구 소재 직장 관련('21.5.(6))\",\n",
       "       \"중구 소재 직장 관련('21.5.(3))\", '노원구 소재 음식점 관련(21.5.)',\n",
       "       '강동구 소재 노래연습장 관련', \"송파구 소재 종교시설 관련('21.5.)\", '구로구 소재 종교시설 관련',\n",
       "       \"수도권 지인모임 관련('21.5.(6))\", \"중구 소재 직장 관련('21.5.(4))\",\n",
       "       \"성북구 소재 종교시설 관련('21.5.)\", \"서초구 소재 직장 관련('21.5.(2))\",\n",
       "       \"구로구 소재 직장 관련('21.5.)\", '영등포구 가족, 강남구 소재 학원 관련', '강남구 소재 노래연습장 관련',\n",
       "       '성북구 소재 대학생 지인모임/대학교 관련', '강남구 소재 의료기관 관련', '노원구 소재 고시원 관련',\n",
       "       '관악구 소재 어르신돌봄시설 관련', \"강남구 소재 직장 관련('21.5.(3))\", '동작구 소재 고등학교 관련',\n",
       "       \"금천구 소재 직장 관련('21.5.(2))\", '동대문구 소재 교육시설 관련',\n",
       "       '중구 소재 시장 관련(’21.5.)', \"수도권 지인모임 관련('21.5.(3))\", '동작구 소재 음식점 관련',\n",
       "       '노원구 직장/지인모임 관련', '동북권 지인모임 관련(‘21.5.(2))', '송파구 소재 직장관련',\n",
       "       '강남구 소재 초등학교 관련', '동작구 소재 대학교 기숙사 관련', \"은평구 소재 종교시설 관련('21.5.(2))\",\n",
       "       \"서대문구 소재 종교시설 관련('21.5.)\", \"서초구 소재 직장 관련('21.5.(3))\",\n",
       "       \"수도권 지인모임 관련('21.5.(4))\", '타시도(고양시) 음식점 관련', '서대문구 가족, 직장 관련',\n",
       "       '서대문구 지인모임 관련', \"양천구 소재 직장 관련('21.5.)\", \"동작구 소재 병원 관련('21.5.)\",\n",
       "       '구로구 지인모임 관련', \"동대문구 소재 직장 관련('21.5.(3))\", \"광진구 소재 사우나 관련('21.5.)\",\n",
       "       '금천구 소재 종교시설 관련', \"동대문구 소재 직장 관련('21.5.(2))\",\n",
       "       \"강남구 소재 직장 관련('21.5.(2))\", \"동대문구 소재 직장 관련('21.5.)\",\n",
       "       '도봉구 소재 종교시설 관련(’21.5.)', \"동작구 소재 직장 관련('21.5.)\", '강북구 소재 음식점 관련',\n",
       "       \"수도권 지인모임 관련('21.4.(2))\", '강북구 소재 노래연습장 관련', '동작구 소재 시장 관련',\n",
       "       '강남구 소재 PC방 관련', \"관악구 소재 음식점 관련('21.4.)\", '강남구 소재 종교시설 관련',\n",
       "       '광진구 음식점/노원구 어린이집 관련', '강북구 소재 pc방 관련', \"관악구 소재 직장 관련('21.4.)\",\n",
       "       '강동구 소재 음식점 관련', \"용산구 소재 직장 관련('21.5.)\", '강남구 소재 학원 관련',\n",
       "       '성동구 소재 어르신돌봄시설 관련', '서울시 소재 댄스학원 관련', \"강남구 소재 학원 관련('21.5.)\",\n",
       "       '강동구 소재 식당/교육시설 관련', \"수도권 지인모임 관련('21.5.(2))\",\n",
       "       \"동작구 소재 직장관련('21.4.)\", \"동대문구 소재 종교시설 관련('21.4.)\",\n",
       "       \"수도권 지인모임 관련('21.5.)\", \"서초구 소재 직장 관련('21.5.)\",\n",
       "       '동대문구 소재 직장 관련(`21.4(2))', '성북구 지인모임 관련', \"강남구 소재 직장 관련('21.5.)\",\n",
       "       '송파구 소재 노래연습장 관련', \"중구 소재 직장 관련('21.5.)\", \"성동구 소재 직장 관련('21.5.)\",\n",
       "       '강북구 지인모임 관련', \"은평구 소재 의료기관 관련('21.4.)\", \"강남구 소재 직장 관련('21.4.(5))\",\n",
       "       \"종로구 소재 대학교 관련('21.4)\", \"강남구 소재 직장 관련('21.4.(6))\", '구로구 소재 빌딩 관련',\n",
       "       '마포구 소재 어린이집 관련', '서초구 소재 음악학원 관련', \"강남구 소재 직장 관련('21.4.(8))\",\n",
       "       '동대문구 소재 음식점 관련', '중랑구 소재 음악학원 관련', '영등포구 소재 체육시설 관련',\n",
       "       '경기 성남시 게임개발업체 관련', \"서초구 소재 직장 관련('21.4.(2))\",\n",
       "       \"은평구 소재 종교시설 관련('21.5.)\", '타시도 농구동호회 관련', '서울시 소재 직장 관련',\n",
       "       '용산구 소재 공연 관련', '타시도(인천시) 지인모임 관련', \"관악구 소재 종교시설 관련('21.5.)\",\n",
       "       \"송파구 소재 실내 체육시설 관련('21.4.)\", \"서초구 소재 직장 관련('21.4.(3))\",\n",
       "       \"광진구 소재 직장 관련('21.4.)\", '동대문구 소재 고시원 관련', '서초구 지인 모임 관련',\n",
       "       '도봉구 소재 요양시설 관련', \"은평구 소재 종교시설 관련('21.4.)\", \"수도권 지인모임 관련('21.4.)\",\n",
       "       '서초구 소재 실내체육시설 관련', \"동대문구 소재 직장 관련('21.4.(2))\",\n",
       "       \"종로구 소재 공공기관 관련('21.4.)\", '광진구 소재 실내체육시설 관련',\n",
       "       \"송파구 소재 종교시설 관련('21.4.)\", \"은평구 소재 종교시설('21년 4월(2))\",\n",
       "       '동대문구 소재 중학교 관련', '금천구 소재 PC방 관련', \"강남구 소재 직장 관련('21.4.(7))\",\n",
       "       \"은평구 소재 사우나 관련('21.4.(3))\", '용산구 소재 직장 관련',\n",
       "       \"강남구 소재 직장 관련('21.4.(4))\", '수도권 여행/강남구 지인 모임 관련',\n",
       "       '양천구 소재 실내체육시설 관련', '중랑구 소재 공공기관 관련', '종로구 소재 음식점 관련',\n",
       "       '지인 여행모임/서초구 직장 관련', \"서초구 소재 음식점 관련('21.4.)\", '금천구/영등포구 소재 학원 관련',\n",
       "       \"중랑구 소재 실내 체육시설 관련('21.4.)\", \"강서구 소재 직장 관련('21.4.)\",\n",
       "       '관악구 소재 대학교 관련', \"강남구 소재 직장 관련('21.4.(3))\",\n",
       "       \"성북구 소재 사우나 관련('21.4.)\", '종로구 소재 고등학교 관련', \"동대문구 소재 직장 관련('21.4.)\",\n",
       "       '중구 소재 의료기관 관련', '서대문구 소재 종교시설/타시도 집회 관련', '도봉구 소재 음악학원 관련',\n",
       "       '마포구 소재 공공기관, 은평구 음식점 관련', \"송파구 소재 종교시설 관련('21.3.)\",\n",
       "       \"용산구 소재 사우나 관련('21.4.)\", '중랑구 가족/실내체육시설 관련', '중랑구 소재 어르신복지시설 관련',\n",
       "       '송파구 소재 음식점 관련', \"강남구 소재 주점 관련('21.4.)\",\n",
       "       \"서초구 소재 음식점 관련('21.4(2).)\", \"서초구 소재 직장 관련('21.4.)\",\n",
       "       '송파구 소재 고등학교 관련', \"강남구 소재 직장 관련('21.4.(2))\", '강남구 소재 공유오피스 관련',\n",
       "       \"은평구 소재 사우나 관련('21.4)\", \"중구 소재 공공기관 관련('21.4.(2))\",\n",
       "       \"도봉구 소재 직장 관련('21.4.)\", '동작구 소재 실내체육시설 관련',\n",
       "       \"은평구 소재 사우나 관련('21.4(2))\", '도봉구 소재 병원 관련', '강남구 지인모임 관련',\n",
       "       '강남구 소재 주점 관련', \"중구 소재 직장 관련('21.4.)\", '용산구 소재 음악동호회 관련',\n",
       "       '은평구 소재 실내체육시설 관련', '은평구 소재 종교시설 관련', \"중랑구 소재 의료기관 관련('21.4.)\",\n",
       "       '관악구 소재 건강체험시설 관련', '중랑구 소재 가족/직장 관련', '도봉구 소재 한방병원 관련',\n",
       "       '서초구 소재 음악교습소 관련', \"노원구 소재 직장 관련('21.4.)\", '중구 소재 직장(21년 4월(2))',\n",
       "       '서초구 소재 텔레마케팅 관련', '종로구 소재 공공기관 관련', '구로구 소재 고등학교/개인교습 관련',\n",
       "       \"중구 소재 직장 관련('21.4.(3))\", '성북구 가족/유치원 관련',\n",
       "       \"강동구 소재 한방병원 관련('21.4.)\", \"중구 소재 공공기관 관련('21.4.)\",\n",
       "       '동작구 소재 의료기관 관련', '관악구 직장/인천 집단생활 관련', '서초구 소재 공유오피스 관련',\n",
       "       '동작구 지인모임, 직장관련', '강남구 소재 회사/노원구 가족 관련', \"서초구 소재 종교시설 관련('21.3.)\",\n",
       "       \"강남구 소재 직장 관련('21.4.)\", '강남구 소재 사우나(타시도 일가족 관련)',\n",
       "       '동대문구 가족/성동구 직장 관련', '송파구 가족/어린이집 관련', \"동작구 소재 직장 관련('21.3.)\",\n",
       "       '노원구 소재 공공기관 관련', \"강남구 소재 직장 관련('21.3.)\", '마포구 소재 대학기숙사 관련',\n",
       "       '성북구 소재 교회 관련', \"중구 소재 직장 관련('21.3월(2))\",\n",
       "       \"마포구 소재 직장 관련('21.3.(2))\", '도봉구 소재 공공기관 관련',\n",
       "       \"수도권 지인모임 관련('21.3.(2))\", '강남구 가족 관련', '노원구 의료기관/성동구 직장 관련',\n",
       "       \"서초구 소재 직장 관련('21.3.)\", '서초구 소재 음악연습실 관련',\n",
       "       \"서초구 소재 음악연습실 관련('21.3.)\", \"은평구 소재 사우나('21.4(2)) 관련\",\n",
       "       '중구 소재 주점/음식점 관련', '송파구 소재 물류센터 관련', '강북구 가족/어린이집 관련',\n",
       "       '관악구 소재 직장(‘21년 3월(2)) 관련', '동작구 소재 고시텔 관련', '구로구 소재 사우나 관련',\n",
       "       '광진구 소재 중학교 관련', \"관악구 소재 종교시설 관련('21.3.)\", '광진구 소재 가족, 어린이집 관련',\n",
       "       '영등포구 소재 빌딩 관련', \"마포구 소재 직장 관련('21.3월)\", '용산구 가족/실내체육시설 관련',\n",
       "       \"노원구 소재 직장 관련('21.3.)\", '송파구 소재 공연밴드관련', \"송파구 소재 의료기관 관련('21.3.)\",\n",
       "       '강동구 소재 고등학교 관련', '관악구 미용업/중구 의료기관 관련', '성동구 소재 직장 관련(`21.3-Ⅱ)',\n",
       "       '은평구 소재 학원 관련', '은평구 가족/음식점 관련', '용산구 소재 회사/양천구 소재 교회 관련',\n",
       "       '서대문구 소재 건설현장 관련', '송파구 가족/강남구 소재 의료기관 관련',\n",
       "       '영등포구 소재 음식점/마포구 소재 미용업 관련', '동대문구 소재 직장2 관련', '성동구 소재 종교시설 관련',\n",
       "       '서초구 소재 교육기관 관련', '도봉구 소재 제조업 공장 관련', '강북구 소재 제조업공장 관련',\n",
       "       '노원구 소재 음식점 관련', '도봉구 소재 어린이집 관련(`21.3.)', '강남구 소재 중학교 관련'],\n",
       "      dtype=object)"
      ]
     },
     "execution_count": 65,
     "metadata": {},
     "output_type": "execute_result"
    }
   ],
   "source": [
    "corona_data['접촉력'].unique()\n",
    "\n",
    "음식점\n",
    "직장\n",
    "종교\n",
    "병원\n",
    "지인모임\n",
    "기타\n"
   ]
  },
  {
   "cell_type": "code",
   "execution_count": null,
   "id": "4692cb6f",
   "metadata": {},
   "outputs": [],
   "source": [
    "corona_data[corona_data['접촉력']]"
   ]
  },
  {
   "cell_type": "code",
   "execution_count": 42,
   "id": "b1e34983",
   "metadata": {},
   "outputs": [
    {
     "data": {
      "text/plain": [
       "105"
      ]
     },
     "execution_count": 42,
     "metadata": {},
     "output_type": "execute_result"
    }
   ],
   "source": [
    "len(corona_data['여행력'].unique())"
   ]
  },
  {
   "cell_type": "code",
   "execution_count": 45,
   "id": "e9eedd2a",
   "metadata": {},
   "outputs": [],
   "source": [
    "new_df = corona_data[corona_data['여행력'] != '없음']"
   ]
  },
  {
   "cell_type": "code",
   "execution_count": 46,
   "id": "fc2310ca",
   "metadata": {},
   "outputs": [
    {
     "data": {
      "text/html": [
       "<div>\n",
       "<style scoped>\n",
       "    .dataframe tbody tr th:only-of-type {\n",
       "        vertical-align: middle;\n",
       "    }\n",
       "\n",
       "    .dataframe tbody tr th {\n",
       "        vertical-align: top;\n",
       "    }\n",
       "\n",
       "    .dataframe thead th {\n",
       "        text-align: right;\n",
       "    }\n",
       "</style>\n",
       "<table border=\"1\" class=\"dataframe\">\n",
       "  <thead>\n",
       "    <tr style=\"text-align: right;\">\n",
       "      <th></th>\n",
       "      <th>환자</th>\n",
       "      <th>거주지</th>\n",
       "      <th>여행력</th>\n",
       "      <th>접촉력</th>\n",
       "      <th>퇴원현황</th>\n",
       "      <th>연도</th>\n",
       "      <th>월</th>\n",
       "      <th>일</th>\n",
       "    </tr>\n",
       "  </thead>\n",
       "  <tbody>\n",
       "    <tr>\n",
       "      <th>56</th>\n",
       "      <td>221732</td>\n",
       "      <td>서대문구</td>\n",
       "      <td>미국</td>\n",
       "      <td>해외유입</td>\n",
       "      <td>퇴원전</td>\n",
       "      <td>2021</td>\n",
       "      <td>8</td>\n",
       "      <td>13</td>\n",
       "    </tr>\n",
       "    <tr>\n",
       "      <th>112</th>\n",
       "      <td>221410</td>\n",
       "      <td>중구</td>\n",
       "      <td>독일</td>\n",
       "      <td>해외유입</td>\n",
       "      <td>퇴원전</td>\n",
       "      <td>2021</td>\n",
       "      <td>8</td>\n",
       "      <td>13</td>\n",
       "    </tr>\n",
       "    <tr>\n",
       "      <th>129</th>\n",
       "      <td>220235</td>\n",
       "      <td>영등포구</td>\n",
       "      <td>폴란드</td>\n",
       "      <td>해외유입</td>\n",
       "      <td>퇴원전</td>\n",
       "      <td>2021</td>\n",
       "      <td>8</td>\n",
       "      <td>13</td>\n",
       "    </tr>\n",
       "    <tr>\n",
       "      <th>248</th>\n",
       "      <td>221761</td>\n",
       "      <td>마포구</td>\n",
       "      <td>미국</td>\n",
       "      <td>해외유입</td>\n",
       "      <td>퇴원전</td>\n",
       "      <td>2021</td>\n",
       "      <td>8</td>\n",
       "      <td>13</td>\n",
       "    </tr>\n",
       "    <tr>\n",
       "      <th>332</th>\n",
       "      <td>220772</td>\n",
       "      <td>송파구</td>\n",
       "      <td>아랍에미레이트</td>\n",
       "      <td>해외유입</td>\n",
       "      <td>퇴원전</td>\n",
       "      <td>2021</td>\n",
       "      <td>8</td>\n",
       "      <td>13</td>\n",
       "    </tr>\n",
       "    <tr>\n",
       "      <th>...</th>\n",
       "      <td>...</td>\n",
       "      <td>...</td>\n",
       "      <td>...</td>\n",
       "      <td>...</td>\n",
       "      <td>...</td>\n",
       "      <td>...</td>\n",
       "      <td>...</td>\n",
       "      <td>...</td>\n",
       "    </tr>\n",
       "    <tr>\n",
       "      <th>39806</th>\n",
       "      <td>99700</td>\n",
       "      <td>마포구</td>\n",
       "      <td>폴란드</td>\n",
       "      <td>해외유입</td>\n",
       "      <td>퇴원</td>\n",
       "      <td>2021</td>\n",
       "      <td>3</td>\n",
       "      <td>23</td>\n",
       "    </tr>\n",
       "    <tr>\n",
       "      <th>39849</th>\n",
       "      <td>99650</td>\n",
       "      <td>용산구</td>\n",
       "      <td>미국</td>\n",
       "      <td>해외유입</td>\n",
       "      <td>퇴원</td>\n",
       "      <td>2021</td>\n",
       "      <td>3</td>\n",
       "      <td>23</td>\n",
       "    </tr>\n",
       "    <tr>\n",
       "      <th>40025</th>\n",
       "      <td>98940</td>\n",
       "      <td>기타</td>\n",
       "      <td>카자흐스탄</td>\n",
       "      <td>해외유입</td>\n",
       "      <td>퇴원</td>\n",
       "      <td>2021</td>\n",
       "      <td>3</td>\n",
       "      <td>21</td>\n",
       "    </tr>\n",
       "    <tr>\n",
       "      <th>40144</th>\n",
       "      <td>98544</td>\n",
       "      <td>동작구</td>\n",
       "      <td>일본</td>\n",
       "      <td>해외유입</td>\n",
       "      <td>퇴원</td>\n",
       "      <td>2021</td>\n",
       "      <td>3</td>\n",
       "      <td>20</td>\n",
       "    </tr>\n",
       "    <tr>\n",
       "      <th>40293</th>\n",
       "      <td>97970</td>\n",
       "      <td>동작구</td>\n",
       "      <td>미국</td>\n",
       "      <td>해외유입</td>\n",
       "      <td>퇴원</td>\n",
       "      <td>2021</td>\n",
       "      <td>3</td>\n",
       "      <td>19</td>\n",
       "    </tr>\n",
       "  </tbody>\n",
       "</table>\n",
       "<p>552 rows × 8 columns</p>\n",
       "</div>"
      ],
      "text/plain": [
       "           환자   거주지      여행력   접촉력 퇴원현황    연도  월   일\n",
       "56     221732  서대문구       미국  해외유입  퇴원전  2021  8  13\n",
       "112    221410    중구       독일  해외유입  퇴원전  2021  8  13\n",
       "129    220235  영등포구      폴란드  해외유입  퇴원전  2021  8  13\n",
       "248    221761   마포구       미국  해외유입  퇴원전  2021  8  13\n",
       "332    220772   송파구  아랍에미레이트  해외유입  퇴원전  2021  8  13\n",
       "...       ...   ...      ...   ...  ...   ... ..  ..\n",
       "39806   99700   마포구      폴란드  해외유입   퇴원  2021  3  23\n",
       "39849   99650   용산구       미국  해외유입   퇴원  2021  3  23\n",
       "40025   98940    기타    카자흐스탄  해외유입   퇴원  2021  3  21\n",
       "40144   98544   동작구       일본  해외유입   퇴원  2021  3  20\n",
       "40293   97970   동작구       미국  해외유입   퇴원  2021  3  19\n",
       "\n",
       "[552 rows x 8 columns]"
      ]
     },
     "execution_count": 46,
     "metadata": {},
     "output_type": "execute_result"
    }
   ],
   "source": [
    "new_df"
   ]
  },
  {
   "cell_type": "code",
   "execution_count": 61,
   "id": "f3112809",
   "metadata": {},
   "outputs": [
    {
     "data": {
      "text/plain": [
       "<AxesSubplot:xlabel='index', ylabel='여행력'>"
      ]
     },
     "execution_count": 61,
     "metadata": {},
     "output_type": "execute_result"
    },
    {
     "data": {
      "image/png": "[encoded data removed]",
      "text/plain": [
       "<Figure size 1080x288 with 1 Axes>"
      ]
     },
     "metadata": {
      "needs_background": "light"
     },
     "output_type": "display_data"
    }
   ],
   "source": [
    "new_df2 = new_df['여행력'].value_counts().reset_index()\n",
    "a = new_df2[new_df2['여행력'] >= 10]\n",
    "plt.figure(figsize = (15,4))\n",
    "plt.xticks(rotation = 90)\n",
    "sns.barplot(data = a, x = 'index', y = '여행력')"
   ]
  },
  {
   "cell_type": "code",
   "execution_count": null,
   "id": "33a2bfed",
   "metadata": {},
   "outputs": [],
   "source": []
  },
  {
   "cell_type": "code",
   "execution_count": null,
   "id": "3900acee",
   "metadata": {},
   "outputs": [],
   "source": []
  },
  {
   "cell_type": "code",
   "execution_count": null,
   "id": "319ae806",
   "metadata": {},
   "outputs": [],
   "source": []
  },
  {
   "cell_type": "code",
   "execution_count": null,
   "id": "b315b726",
   "metadata": {},
   "outputs": [],
   "source": []
  },
  {
   "cell_type": "code",
   "execution_count": null,
   "id": "a57dcbd8",
   "metadata": {},
   "outputs": [],
   "source": []
  },
  {
   "cell_type": "code",
   "execution_count": null,
   "id": "1e46fc05",
   "metadata": {},
   "outputs": [],
   "source": []
  },
  {
   "cell_type": "code",
   "execution_count": null,
   "id": "5c39bace",
   "metadata": {},
   "outputs": [],
   "source": []
  },
  {
   "cell_type": "markdown",
   "id": "37739042",
   "metadata": {},
   "source": [
    "## 3. 칼럼별 기술통계"
   ]
  },
  {
   "cell_type": "code",
   "execution_count": null,
   "id": "dfcd5adb",
   "metadata": {},
   "outputs": [],
   "source": [
    "corona_data.describe()"
   ]
  },
  {
   "cell_type": "markdown",
   "id": "35c8a2e9",
   "metadata": {},
   "source": [
    "### 3.1 연번"
   ]
  },
  {
   "cell_type": "code",
   "execution_count": null,
   "id": "30238962",
   "metadata": {},
   "outputs": [],
   "source": [
    "corona"
   ]
  },
  {
   "cell_type": "code",
   "execution_count": null,
   "id": "64a01473",
   "metadata": {},
   "outputs": [],
   "source": []
  },
  {
   "cell_type": "code",
   "execution_count": null,
   "id": "8822c80d",
   "metadata": {},
   "outputs": [],
   "source": []
  },
  {
   "cell_type": "code",
   "execution_count": null,
   "id": "2c04329e",
   "metadata": {},
   "outputs": [],
   "source": []
  },
  {
   "cell_type": "code",
   "execution_count": null,
   "id": "6f7f712f",
   "metadata": {},
   "outputs": [],
   "source": []
  },
  {
   "cell_type": "code",
   "execution_count": null,
   "id": "2665c824",
   "metadata": {},
   "outputs": [],
   "source": []
  },
  {
   "cell_type": "markdown",
   "id": "7edf6413",
   "metadata": {},
   "source": [
    "### 3.2 환자"
   ]
  },
  {
   "cell_type": "code",
   "execution_count": null,
   "id": "03c45927",
   "metadata": {},
   "outputs": [],
   "source": []
  },
  {
   "cell_type": "code",
   "execution_count": null,
   "id": "02778d15",
   "metadata": {},
   "outputs": [],
   "source": []
  },
  {
   "cell_type": "code",
   "execution_count": null,
   "id": "f6d0e6b3",
   "metadata": {},
   "outputs": [],
   "source": []
  },
  {
   "cell_type": "markdown",
   "id": "4c1c8ba7",
   "metadata": {},
   "source": [
    "### 3.3 확진일"
   ]
  },
  {
   "cell_type": "code",
   "execution_count": null,
   "id": "fba88aeb",
   "metadata": {},
   "outputs": [],
   "source": []
  },
  {
   "cell_type": "code",
   "execution_count": null,
   "id": "70d174a7",
   "metadata": {},
   "outputs": [],
   "source": []
  },
  {
   "cell_type": "code",
   "execution_count": null,
   "id": "a44d0b1a",
   "metadata": {},
   "outputs": [],
   "source": []
  },
  {
   "cell_type": "markdown",
   "id": "85feef6f",
   "metadata": {},
   "source": [
    "###  3.4 거주지"
   ]
  },
  {
   "cell_type": "code",
   "execution_count": null,
   "id": "c8e09b44",
   "metadata": {},
   "outputs": [],
   "source": []
  },
  {
   "cell_type": "code",
   "execution_count": null,
   "id": "4622137b",
   "metadata": {},
   "outputs": [],
   "source": []
  },
  {
   "cell_type": "code",
   "execution_count": null,
   "id": "3c5e4e12",
   "metadata": {},
   "outputs": [],
   "source": []
  },
  {
   "cell_type": "markdown",
   "id": "b70943ec",
   "metadata": {},
   "source": [
    "### 3.5 여행력"
   ]
  },
  {
   "cell_type": "code",
   "execution_count": null,
   "id": "07908399",
   "metadata": {},
   "outputs": [],
   "source": []
  },
  {
   "cell_type": "code",
   "execution_count": null,
   "id": "33df22d7",
   "metadata": {},
   "outputs": [],
   "source": []
  },
  {
   "cell_type": "code",
   "execution_count": null,
   "id": "42093dbd",
   "metadata": {},
   "outputs": [],
   "source": []
  },
  {
   "cell_type": "markdown",
   "id": "1a1043ca",
   "metadata": {},
   "source": [
    "### 3.6 접촉력"
   ]
  },
  {
   "cell_type": "code",
   "execution_count": null,
   "id": "3c006d67",
   "metadata": {},
   "outputs": [],
   "source": []
  },
  {
   "cell_type": "code",
   "execution_count": null,
   "id": "307c87fd",
   "metadata": {},
   "outputs": [],
   "source": []
  },
  {
   "cell_type": "code",
   "execution_count": null,
   "id": "e9398398",
   "metadata": {},
   "outputs": [],
   "source": []
  },
  {
   "cell_type": "markdown",
   "id": "37912baf",
   "metadata": {},
   "source": [
    "### 3.7 퇴원현황"
   ]
  },
  {
   "cell_type": "code",
   "execution_count": null,
   "id": "5297aff5",
   "metadata": {},
   "outputs": [],
   "source": []
  },
  {
   "cell_type": "code",
   "execution_count": null,
   "id": "f2bbb8ea",
   "metadata": {},
   "outputs": [],
   "source": []
  },
  {
   "cell_type": "code",
   "execution_count": null,
   "id": "3d9224cf",
   "metadata": {},
   "outputs": [],
   "source": []
  },
  {
   "cell_type": "markdown",
   "id": "ccc955a0",
   "metadata": {},
   "source": [
    "# 서울특별시 예방접종센터 현황 데이터"
   ]
  },
  {
   "cell_type": "markdown",
   "id": "a2380747",
   "metadata": {},
   "source": [
    "## 전처리"
   ]
  },
  {
   "cell_type": "code",
   "execution_count": null,
   "id": "24e7cede",
   "metadata": {},
   "outputs": [],
   "source": [
    "pd.read_csv('C:\\study\\workspace_python\\pdsample\\datasets\\mydata\\공공데이터활용지원센터_코로나19 예방접종센터 현황_20210716.csv', encoding = 'cp949')"
   ]
  },
  {
   "cell_type": "code",
   "execution_count": null,
   "id": "5518bf31",
   "metadata": {},
   "outputs": [],
   "source": []
  },
  {
   "cell_type": "code",
   "execution_count": null,
   "id": "97c4d6d4",
   "metadata": {},
   "outputs": [],
   "source": [
    "pd.read_csv('C:\\study\\workspace_python\\pdsample\\datasets\\mydata\\DLA_2nd_ORIGIN_DLADATA202004_20210730120000.csv', header=None)"
   ]
  },
  {
   "cell_type": "code",
   "execution_count": null,
   "id": "aaa5c64b",
   "metadata": {},
   "outputs": [],
   "source": []
  },
  {
   "cell_type": "markdown",
   "id": "080676df",
   "metadata": {},
   "source": [
    "# 코로나 19 여행사업 관련 데이터 "
   ]
  },
  {
   "cell_type": "code",
   "execution_count": 7,
   "id": "65ac8eaa",
   "metadata": {},
   "outputs": [],
   "source": [
    "trip_df = pd.read_excel('C:\\\\study\\\\workspace_python\\\\pdsample\\\\datasets\\\\mydata\\\\코로나19 여행관련 데이터.xlsx')"
   ]
  },
  {
   "cell_type": "code",
   "execution_count": 8,
   "id": "464fb71d",
   "metadata": {},
   "outputs": [
    {
     "data": {
      "text/html": [
       "<div>\n",
       "<style scoped>\n",
       "    .dataframe tbody tr th:only-of-type {\n",
       "        vertical-align: middle;\n",
       "    }\n",
       "\n",
       "    .dataframe tbody tr th {\n",
       "        vertical-align: top;\n",
       "    }\n",
       "\n",
       "    .dataframe thead th {\n",
       "        text-align: right;\n",
       "    }\n",
       "</style>\n",
       "<table border=\"1\" class=\"dataframe\">\n",
       "  <thead>\n",
       "    <tr style=\"text-align: right;\">\n",
       "      <th></th>\n",
       "      <th>0</th>\n",
       "      <th>1</th>\n",
       "      <th>2</th>\n",
       "      <th>3</th>\n",
       "      <th>4</th>\n",
       "      <th>5</th>\n",
       "      <th>6</th>\n",
       "    </tr>\n",
       "  </thead>\n",
       "  <tbody>\n",
       "    <tr>\n",
       "      <th>항목</th>\n",
       "      <td>관광/여행</td>\n",
       "      <td>관광/여행</td>\n",
       "      <td>관광/여행</td>\n",
       "      <td>관광/여행</td>\n",
       "      <td>관광/여행</td>\n",
       "      <td>관광/여행</td>\n",
       "      <td>관광/여행</td>\n",
       "    </tr>\n",
       "    <tr>\n",
       "      <th>세부항목</th>\n",
       "      <td>호텔업</td>\n",
       "      <td>여관업</td>\n",
       "      <td>여행사업</td>\n",
       "      <td>항공여객운송업</td>\n",
       "      <td>철도여객운송업</td>\n",
       "      <td>휴양콘도운영업</td>\n",
       "      <td>관광/여행 지수</td>\n",
       "    </tr>\n",
       "    <tr>\n",
       "      <th>2021년 06월</th>\n",
       "      <td>89.7</td>\n",
       "      <td>67.7</td>\n",
       "      <td>22.5</td>\n",
       "      <td>23.9</td>\n",
       "      <td>98.8</td>\n",
       "      <td>79.3</td>\n",
       "      <td>50.5</td>\n",
       "    </tr>\n",
       "    <tr>\n",
       "      <th>2021년 05월</th>\n",
       "      <td>85.8</td>\n",
       "      <td>67.6</td>\n",
       "      <td>17.4</td>\n",
       "      <td>25.2</td>\n",
       "      <td>102.8</td>\n",
       "      <td>71.5</td>\n",
       "      <td>49.6</td>\n",
       "    </tr>\n",
       "    <tr>\n",
       "      <th>2021년 04월</th>\n",
       "      <td>77.1</td>\n",
       "      <td>64.4</td>\n",
       "      <td>17.7</td>\n",
       "      <td>21.3</td>\n",
       "      <td>91.8</td>\n",
       "      <td>60.0</td>\n",
       "      <td>44.5</td>\n",
       "    </tr>\n",
       "    <tr>\n",
       "      <th>...</th>\n",
       "      <td>...</td>\n",
       "      <td>...</td>\n",
       "      <td>...</td>\n",
       "      <td>...</td>\n",
       "      <td>...</td>\n",
       "      <td>...</td>\n",
       "      <td>...</td>\n",
       "    </tr>\n",
       "    <tr>\n",
       "      <th>2010년 05월</th>\n",
       "      <td>110.6</td>\n",
       "      <td>99.8</td>\n",
       "      <td>95.0</td>\n",
       "      <td>71.2</td>\n",
       "      <td>72.7</td>\n",
       "      <td>105.0</td>\n",
       "      <td>87.5</td>\n",
       "    </tr>\n",
       "    <tr>\n",
       "      <th>2010년 04월</th>\n",
       "      <td>102.3</td>\n",
       "      <td>103.1</td>\n",
       "      <td>82.6</td>\n",
       "      <td>66.3</td>\n",
       "      <td>63.9</td>\n",
       "      <td>97.7</td>\n",
       "      <td>81.3</td>\n",
       "    </tr>\n",
       "    <tr>\n",
       "      <th>2010년 03월</th>\n",
       "      <td>103.9</td>\n",
       "      <td>104.3</td>\n",
       "      <td>63.6</td>\n",
       "      <td>68.0</td>\n",
       "      <td>62.7</td>\n",
       "      <td>80.0</td>\n",
       "      <td>78.7</td>\n",
       "    </tr>\n",
       "    <tr>\n",
       "      <th>2010년 02월</th>\n",
       "      <td>94.5</td>\n",
       "      <td>98.5</td>\n",
       "      <td>67.0</td>\n",
       "      <td>61.1</td>\n",
       "      <td>68.0</td>\n",
       "      <td>109.3</td>\n",
       "      <td>76.3</td>\n",
       "    </tr>\n",
       "    <tr>\n",
       "      <th>2010년 01월</th>\n",
       "      <td>98.1</td>\n",
       "      <td>104.3</td>\n",
       "      <td>75.3</td>\n",
       "      <td>67.0</td>\n",
       "      <td>71.3</td>\n",
       "      <td>135.1</td>\n",
       "      <td>82.8</td>\n",
       "    </tr>\n",
       "  </tbody>\n",
       "</table>\n",
       "<p>140 rows × 7 columns</p>\n",
       "</div>"
      ],
      "text/plain": [
       "               0      1      2        3        4        5         6\n",
       "항목         관광/여행  관광/여행  관광/여행    관광/여행    관광/여행    관광/여행     관광/여행\n",
       "세부항목         호텔업    여관업   여행사업  항공여객운송업  철도여객운송업  휴양콘도운영업  관광/여행 지수\n",
       "2021년 06월   89.7   67.7   22.5     23.9     98.8     79.3      50.5\n",
       "2021년 05월   85.8   67.6   17.4     25.2    102.8     71.5      49.6\n",
       "2021년 04월   77.1   64.4   17.7     21.3     91.8     60.0      44.5\n",
       "...          ...    ...    ...      ...      ...      ...       ...\n",
       "2010년 05월  110.6   99.8   95.0     71.2     72.7    105.0      87.5\n",
       "2010년 04월  102.3  103.1   82.6     66.3     63.9     97.7      81.3\n",
       "2010년 03월  103.9  104.3   63.6     68.0     62.7     80.0      78.7\n",
       "2010년 02월   94.5   98.5   67.0     61.1     68.0    109.3      76.3\n",
       "2010년 01월   98.1  104.3   75.3     67.0     71.3    135.1      82.8\n",
       "\n",
       "[140 rows x 7 columns]"
      ]
     },
     "execution_count": 8,
     "metadata": {},
     "output_type": "execute_result"
    }
   ],
   "source": [
    "trip_df.T"
   ]
  },
  {
   "cell_type": "code",
   "execution_count": 9,
   "id": "9de082f0",
   "metadata": {},
   "outputs": [],
   "source": [
    "wanted_data = trip_df.T.iloc[2:20,2]\n",
    "visualization_df = wanted_data.reset_index()"
   ]
  },
  {
   "cell_type": "code",
   "execution_count": 10,
   "id": "d82ec8d1",
   "metadata": {},
   "outputs": [
    {
     "data": {
      "text/html": [
       "<div>\n",
       "<style scoped>\n",
       "    .dataframe tbody tr th:only-of-type {\n",
       "        vertical-align: middle;\n",
       "    }\n",
       "\n",
       "    .dataframe tbody tr th {\n",
       "        vertical-align: top;\n",
       "    }\n",
       "\n",
       "    .dataframe thead th {\n",
       "        text-align: right;\n",
       "    }\n",
       "</style>\n",
       "<table border=\"1\" class=\"dataframe\">\n",
       "  <thead>\n",
       "    <tr style=\"text-align: right;\">\n",
       "      <th></th>\n",
       "      <th>index</th>\n",
       "      <th>results</th>\n",
       "    </tr>\n",
       "  </thead>\n",
       "  <tbody>\n",
       "    <tr>\n",
       "      <th>0</th>\n",
       "      <td>2021년 06월</td>\n",
       "      <td>22.5</td>\n",
       "    </tr>\n",
       "    <tr>\n",
       "      <th>1</th>\n",
       "      <td>2021년 05월</td>\n",
       "      <td>17.4</td>\n",
       "    </tr>\n",
       "    <tr>\n",
       "      <th>2</th>\n",
       "      <td>2021년 04월</td>\n",
       "      <td>17.7</td>\n",
       "    </tr>\n",
       "    <tr>\n",
       "      <th>3</th>\n",
       "      <td>2021년 03월</td>\n",
       "      <td>16.7</td>\n",
       "    </tr>\n",
       "    <tr>\n",
       "      <th>4</th>\n",
       "      <td>2021년 02월</td>\n",
       "      <td>13.3</td>\n",
       "    </tr>\n",
       "  </tbody>\n",
       "</table>\n",
       "</div>"
      ],
      "text/plain": [
       "       index results\n",
       "0  2021년 06월    22.5\n",
       "1  2021년 05월    17.4\n",
       "2  2021년 04월    17.7\n",
       "3  2021년 03월    16.7\n",
       "4  2021년 02월    13.3"
      ]
     },
     "execution_count": 10,
     "metadata": {},
     "output_type": "execute_result"
    }
   ],
   "source": [
    "visualization_df = visualization_df.rename(columns = {2 : 'results'})\n",
    "visualization_df.head()"
   ]
  },
  {
   "cell_type": "code",
   "execution_count": 13,
   "id": "661d456f",
   "metadata": {},
   "outputs": [],
   "source": [
    "visualization_df['results'] = visualization_df['results'].astype(int)"
   ]
  },
  {
   "cell_type": "code",
   "execution_count": 17,
   "id": "4646130d",
   "metadata": {},
   "outputs": [
    {
     "data": {
      "text/plain": [
       "([0, 1, 2, 3, 4, 5, 6, 7, 8, 9, 10, 11, 12, 13, 14, 15, 16, 17],\n",
       " [Text(0, 0, ''),\n",
       "  Text(0, 0, ''),\n",
       "  Text(0, 0, ''),\n",
       "  Text(0, 0, ''),\n",
       "  Text(0, 0, ''),\n",
       "  Text(0, 0, ''),\n",
       "  Text(0, 0, ''),\n",
       "  Text(0, 0, ''),\n",
       "  Text(0, 0, ''),\n",
       "  Text(0, 0, ''),\n",
       "  Text(0, 0, ''),\n",
       "  Text(0, 0, ''),\n",
       "  Text(0, 0, ''),\n",
       "  Text(0, 0, ''),\n",
       "  Text(0, 0, ''),\n",
       "  Text(0, 0, ''),\n",
       "  Text(0, 0, ''),\n",
       "  Text(0, 0, '')])"
      ]
     },
     "execution_count": 17,
     "metadata": {},
     "output_type": "execute_result"
    },
    {
     "data": {
      "image/png": "[encoded data removed]",
      "text/plain": [
       "<Figure size 1080x288 with 1 Axes>"
      ]
     },
     "metadata": {
      "needs_background": "light"
     },
     "output_type": "display_data"
    },
    {
     "data": {
      "image/png": "[encoded data removed]",
      "text/plain": [
       "<Figure size 1080x288 with 1 Axes>"
      ]
     },
     "metadata": {
      "needs_background": "light"
     },
     "output_type": "display_data"
    }
   ],
   "source": [
    "plt.figure(figsize = (15,4))\n",
    "plt.title('hotel business from 2020 - 2021')\n",
    "sns.lineplot(data = visualization_df, x = 'index', y = 'results', linestyle = '--', marker = 'o')\n",
    "sns.barplot(data = visualization_df, x = 'index', y = 'results', palette='YlGn_r')\n",
    "plt.xticks(rotation = 90)\n",
    "plt.figure(figsize = (15,4))\n",
    "sns.lineplot(data = visualization_df, x = 'index', y = 'results', linestyle = '--', marker = 'o')\n",
    "plt.xticks(rotation = 90)\n",
    "\n",
    "\n",
    "# plt.savefig('foryongju')"
   ]
  },
  {
   "cell_type": "code",
   "execution_count": 93,
   "id": "5ed20650",
   "metadata": {},
   "outputs": [
    {
     "data": {
      "text/plain": [
       "<AxesSubplot:>"
      ]
     },
     "execution_count": 93,
     "metadata": {},
     "output_type": "execute_result"
    },
    {
     "data": {
      "image/png": "[encoded data removed]",
      "text/plain": [
       "<Figure size 1080x288 with 1 Axes>"
      ]
     },
     "metadata": {
      "needs_background": "light"
     },
     "output_type": "display_data"
    }
   ],
   "source": [
    "import matplotlib.pyplot as plt\n",
    "import seaborn as sns\n",
    "\n",
    "plt.figure(figsize = (15,4))\n",
    "trip_df.T.iloc[2:40,2].plot(kind = 'bar')"
   ]
  }
 ],
 "metadata": {
  "kernelspec": {
   "display_name": "Python 3",
   "language": "python",
   "name": "python3"
  },
  "language_info": {
   "codemirror_mode": {
    "name": "ipython",
    "version": 3
   },
   "file_extension": ".py",
   "mimetype": "text/x-python",
   "name": "python",
   "nbconvert_exporter": "python",
   "pygments_lexer": "ipython3",
   "version": "3.8.8"
  }
 },
 "nbformat": 4,
 "nbformat_minor": 5
}
